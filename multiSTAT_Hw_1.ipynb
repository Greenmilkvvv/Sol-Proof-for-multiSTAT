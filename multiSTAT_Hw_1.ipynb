{
 "cells": [
  {
   "cell_type": "markdown",
   "metadata": {},
   "source": [
    "# Homework 1"
   ]
  },
  {
   "cell_type": "markdown",
   "metadata": {},
   "source": [
    "***\n",
    "$$Abstract$$\n",
    "\n",
    "\n",
    "This notebook if for part of the exercises of the chapter 1~4 of the book \"Applied Multivariate Statistical Analysis\" by Richard A. Johnson.\n",
    "\n",
    "***\n",
    "\n"
   ]
  },
  {
   "cell_type": "markdown",
   "metadata": {},
   "source": [
    "## exercise 1.12 \n",
    "\n"
   ]
  },
  {
   "cell_type": "markdown",
   "metadata": {},
   "source": [
    "### (a) \n",
    "\n",
    "$P = (-3,4)$  \n",
    "$d(O,P) = max(|-3|,|-4|) = 4$\n",
    "  \n",
    "  \n",
    "We can reasonably infer from the given figure that the shape is a square with a side length of 2, and that the sides of the square are parallel to the coordinate axes, with the center coinciding with the origin. In other words, the four vertices of the square are (-1, -1), (1, -1), (1, 1), and (-1, 1)."
   ]
  },
  {
   "cell_type": "markdown",
   "metadata": {},
   "source": [
    "### (b)\n",
    "> *\"Plot the locus of points whose squared distance from the origin is 1.\"*\n",
    "\n",
    "$d(O,P) = max(|x_1|,|x_2|) = 1$  \n",
    "So we get two cases:  \n",
    "$$\n",
    "\\begin{cases}\n",
    "x_1 = \\pm 1\\\\\n",
    "-1 \\leq x_2 \\leq 1\n",
    "\\end{cases}\n",
    "$$\n",
    "Or it's also possible that:\n",
    "$$\n",
    "\\begin{cases}\n",
    "-1 \\leq x_1 \\leq 1 \\\\\n",
    "x_2 = \\pm 1\n",
    "\\end{cases}\n",
    "$$\n",
    "So we can get the following figure:\n",
    "\n"
   ]
  },
  {
   "cell_type": "code",
   "execution_count": 83,
   "metadata": {},
   "outputs": [
    {
     "data": {
      "image/png": "[encoded data removed]",
      "text/plain": [
       "<Figure size 640x480 with 1 Axes>"
      ]
     },
     "metadata": {},
     "output_type": "display_data"
    }
   ],
   "source": [
    "import matplotlib.pyplot as plt\n",
    "\n",
    "# 创建一个新的图形\n",
    "fig, ax = plt.subplots()\n",
    "\n",
    "# 绘制坐标轴\n",
    "ax.axhline(0, color='black',linewidth=0.5)\n",
    "ax.axvline(0, color='black',linewidth=0.5)\n",
    "\n",
    "# 添加坐标轴箭头\n",
    "ax.spines['left'].set_position('zero')\n",
    "ax.spines['bottom'].set_position('zero')\n",
    "ax.spines['right'].set_color('none')\n",
    "ax.spines['top'].set_color('none')\n",
    "\n",
    "# 标出坐标点\n",
    "ax.scatter(1, 1, color='red', marker='o')\n",
    "ax.scatter(-1, 1, color='red', marker='o')\n",
    "ax.scatter(-1, -1, color='red', marker='o')\n",
    "ax.scatter(1, -1, color='red', marker='o')\n",
    "\n",
    "# 添加坐标点标签\n",
    "ax.text(1, 1, '(1, 1)', fontsize=10, ha='right', color='blue')\n",
    "ax.text(-1, 1, '(-1, 1)', fontsize=10, ha='center', va='bottom', color='blue')\n",
    "ax.text(-1, -1, '(-1, -1)', fontsize=10, ha='left',va='top', color='blue')\n",
    "ax.text(1, -1, '(1, -1)', fontsize=10, ha='center', va='top', color='blue')\n",
    "\n",
    "# 设置坐标轴范围\n",
    "ax.set_xlim(-2, 2)\n",
    "ax.set_ylim(-2, 2)\n",
    "\n",
    "# 绘制图形\n",
    "ax.plot([-1, 1, 1, -1, -1], [-1, -1, 1, 1, -1], color='black')\n",
    "\n",
    "# 显示图形\n",
    "plt.show()\n",
    "\n"
   ]
  },
  {
   "cell_type": "markdown",
   "metadata": {},
   "source": [
    "The figure shows the square with vertices at (-1, -1), (1, -1), (1, 1), and (-1, 1), which are all at a distance of 1 from the origin."
   ]
  },
  {
   "cell_type": "markdown",
   "metadata": {},
   "source": [
    "### (c)\n",
    " > *Generalize the foregoing distance expression to points in p dimensions*  \n",
    " \n",
    " In p dimensions, the distance between two points $P_1(x_1, x_2, ..., x_p)$ and $O(0, 0, ..., 0)$ is defined as the maximum absolute value of the differences between their coordinates. That is： \n",
    " $$\n",
    " d(O,P) = max(|x_1|,|x_2|,...,|x_p|)\n",
    " $$\n"
   ]
  },
  {
   "cell_type": "markdown",
   "metadata": {},
   "source": [
    "## exercise 1.16\n",
    "> At the start of a study to determine whether exercise or dietary supplements would slow bone loss in older women, an investigator measured the mineral content of bones by photon absorptiometry. Measurements were recorded for\n",
    "three bones on the dominant and nondominant sides and are shown in **Table 1.8**. (See also the mineral-content data on the CD-ROM.)\n",
    "> Compute the $\\bar{x}$, $S_n$ , and $R$ arrays. Interpret the pairwise correlations."
   ]
  },
  {
   "cell_type": "code",
   "execution_count": 84,
   "metadata": {},
   "outputs": [
    {
     "data": {
      "text/html": [
       "<div>\n",
       "<style scoped>\n",
       "    .dataframe tbody tr th:only-of-type {\n",
       "        vertical-align: middle;\n",
       "    }\n",
       "\n",
       "    .dataframe tbody tr th {\n",
       "        vertical-align: top;\n",
       "    }\n",
       "\n",
       "    .dataframe thead th {\n",
       "        text-align: right;\n",
       "    }\n",
       "</style>\n",
       "<table border=\"1\" class=\"dataframe\">\n",
       "  <thead>\n",
       "    <tr style=\"text-align: right;\">\n",
       "      <th></th>\n",
       "      <th>Dominant radius</th>\n",
       "      <th>Radius</th>\n",
       "      <th>Dominant humerus</th>\n",
       "      <th>Humerus</th>\n",
       "      <th>Dominant ulna</th>\n",
       "      <th>Ulna</th>\n",
       "    </tr>\n",
       "  </thead>\n",
       "  <tbody>\n",
       "    <tr>\n",
       "      <th>0</th>\n",
       "      <td>1.103</td>\n",
       "      <td>1.052</td>\n",
       "      <td>2.139</td>\n",
       "      <td>2.238</td>\n",
       "      <td>0.873</td>\n",
       "      <td>0.872</td>\n",
       "    </tr>\n",
       "    <tr>\n",
       "      <th>1</th>\n",
       "      <td>0.842</td>\n",
       "      <td>0.859</td>\n",
       "      <td>1.873</td>\n",
       "      <td>1.741</td>\n",
       "      <td>0.590</td>\n",
       "      <td>0.744</td>\n",
       "    </tr>\n",
       "    <tr>\n",
       "      <th>2</th>\n",
       "      <td>0.925</td>\n",
       "      <td>0.873</td>\n",
       "      <td>1.887</td>\n",
       "      <td>1.809</td>\n",
       "      <td>0.767</td>\n",
       "      <td>0.713</td>\n",
       "    </tr>\n",
       "    <tr>\n",
       "      <th>3</th>\n",
       "      <td>0.857</td>\n",
       "      <td>0.744</td>\n",
       "      <td>1.739</td>\n",
       "      <td>1.547</td>\n",
       "      <td>0.706</td>\n",
       "      <td>0.674</td>\n",
       "    </tr>\n",
       "    <tr>\n",
       "      <th>4</th>\n",
       "      <td>0.795</td>\n",
       "      <td>0.809</td>\n",
       "      <td>1.734</td>\n",
       "      <td>1.715</td>\n",
       "      <td>0.549</td>\n",
       "      <td>0.654</td>\n",
       "    </tr>\n",
       "    <tr>\n",
       "      <th>5</th>\n",
       "      <td>0.787</td>\n",
       "      <td>0.779</td>\n",
       "      <td>1.509</td>\n",
       "      <td>1.474</td>\n",
       "      <td>0.782</td>\n",
       "      <td>0.571</td>\n",
       "    </tr>\n",
       "    <tr>\n",
       "      <th>6</th>\n",
       "      <td>0.933</td>\n",
       "      <td>0.880</td>\n",
       "      <td>1.695</td>\n",
       "      <td>1.656</td>\n",
       "      <td>0.737</td>\n",
       "      <td>0.803</td>\n",
       "    </tr>\n",
       "    <tr>\n",
       "      <th>7</th>\n",
       "      <td>0.799</td>\n",
       "      <td>0.851</td>\n",
       "      <td>1.740</td>\n",
       "      <td>1.777</td>\n",
       "      <td>0.618</td>\n",
       "      <td>0.682</td>\n",
       "    </tr>\n",
       "    <tr>\n",
       "      <th>8</th>\n",
       "      <td>0.945</td>\n",
       "      <td>0.876</td>\n",
       "      <td>1.811</td>\n",
       "      <td>1.759</td>\n",
       "      <td>0.853</td>\n",
       "      <td>0.777</td>\n",
       "    </tr>\n",
       "    <tr>\n",
       "      <th>9</th>\n",
       "      <td>0.921</td>\n",
       "      <td>0.906</td>\n",
       "      <td>1.954</td>\n",
       "      <td>2.009</td>\n",
       "      <td>0.823</td>\n",
       "      <td>0.765</td>\n",
       "    </tr>\n",
       "    <tr>\n",
       "      <th>10</th>\n",
       "      <td>0.792</td>\n",
       "      <td>0.825</td>\n",
       "      <td>1.624</td>\n",
       "      <td>1.657</td>\n",
       "      <td>0.686</td>\n",
       "      <td>0.668</td>\n",
       "    </tr>\n",
       "    <tr>\n",
       "      <th>11</th>\n",
       "      <td>0.815</td>\n",
       "      <td>0.751</td>\n",
       "      <td>2.204</td>\n",
       "      <td>1.846</td>\n",
       "      <td>0.678</td>\n",
       "      <td>0.546</td>\n",
       "    </tr>\n",
       "    <tr>\n",
       "      <th>12</th>\n",
       "      <td>0.755</td>\n",
       "      <td>0.724</td>\n",
       "      <td>1.508</td>\n",
       "      <td>1.458</td>\n",
       "      <td>0.662</td>\n",
       "      <td>0.595</td>\n",
       "    </tr>\n",
       "    <tr>\n",
       "      <th>13</th>\n",
       "      <td>0.880</td>\n",
       "      <td>0.866</td>\n",
       "      <td>1.786</td>\n",
       "      <td>1.811</td>\n",
       "      <td>0.810</td>\n",
       "      <td>0.819</td>\n",
       "    </tr>\n",
       "    <tr>\n",
       "      <th>14</th>\n",
       "      <td>0.900</td>\n",
       "      <td>0.838</td>\n",
       "      <td>1.902</td>\n",
       "      <td>1.606</td>\n",
       "      <td>0.723</td>\n",
       "      <td>0.677</td>\n",
       "    </tr>\n",
       "    <tr>\n",
       "      <th>15</th>\n",
       "      <td>0.764</td>\n",
       "      <td>0.757</td>\n",
       "      <td>1.743</td>\n",
       "      <td>1.794</td>\n",
       "      <td>0.586</td>\n",
       "      <td>0.541</td>\n",
       "    </tr>\n",
       "    <tr>\n",
       "      <th>16</th>\n",
       "      <td>0.733</td>\n",
       "      <td>0.748</td>\n",
       "      <td>1.863</td>\n",
       "      <td>1.869</td>\n",
       "      <td>0.672</td>\n",
       "      <td>0.752</td>\n",
       "    </tr>\n",
       "    <tr>\n",
       "      <th>17</th>\n",
       "      <td>0.932</td>\n",
       "      <td>0.898</td>\n",
       "      <td>2.028</td>\n",
       "      <td>2.032</td>\n",
       "      <td>0.836</td>\n",
       "      <td>0.805</td>\n",
       "    </tr>\n",
       "    <tr>\n",
       "      <th>18</th>\n",
       "      <td>0.856</td>\n",
       "      <td>0.786</td>\n",
       "      <td>1.390</td>\n",
       "      <td>1.324</td>\n",
       "      <td>0.578</td>\n",
       "      <td>0.610</td>\n",
       "    </tr>\n",
       "    <tr>\n",
       "      <th>19</th>\n",
       "      <td>0.890</td>\n",
       "      <td>0.950</td>\n",
       "      <td>2.187</td>\n",
       "      <td>2.087</td>\n",
       "      <td>0.758</td>\n",
       "      <td>0.718</td>\n",
       "    </tr>\n",
       "    <tr>\n",
       "      <th>20</th>\n",
       "      <td>0.688</td>\n",
       "      <td>0.532</td>\n",
       "      <td>1.650</td>\n",
       "      <td>1.378</td>\n",
       "      <td>0.533</td>\n",
       "      <td>0.482</td>\n",
       "    </tr>\n",
       "    <tr>\n",
       "      <th>21</th>\n",
       "      <td>0.940</td>\n",
       "      <td>0.850</td>\n",
       "      <td>2.334</td>\n",
       "      <td>2.225</td>\n",
       "      <td>0.757</td>\n",
       "      <td>0.731</td>\n",
       "    </tr>\n",
       "    <tr>\n",
       "      <th>22</th>\n",
       "      <td>0.493</td>\n",
       "      <td>0.616</td>\n",
       "      <td>1.037</td>\n",
       "      <td>1.268</td>\n",
       "      <td>0.546</td>\n",
       "      <td>0.615</td>\n",
       "    </tr>\n",
       "    <tr>\n",
       "      <th>23</th>\n",
       "      <td>0.835</td>\n",
       "      <td>0.752</td>\n",
       "      <td>1.509</td>\n",
       "      <td>1.422</td>\n",
       "      <td>0.618</td>\n",
       "      <td>0.664</td>\n",
       "    </tr>\n",
       "    <tr>\n",
       "      <th>24</th>\n",
       "      <td>0.915</td>\n",
       "      <td>0.936</td>\n",
       "      <td>1.971</td>\n",
       "      <td>1.869</td>\n",
       "      <td>0.869</td>\n",
       "      <td>0.868</td>\n",
       "    </tr>\n",
       "  </tbody>\n",
       "</table>\n",
       "</div>"
      ],
      "text/plain": [
       "    Dominant radius  Radius  Dominant humerus  Humerus  Dominant ulna   Ulna\n",
       "0             1.103   1.052             2.139    2.238          0.873  0.872\n",
       "1             0.842   0.859             1.873    1.741          0.590  0.744\n",
       "2             0.925   0.873             1.887    1.809          0.767  0.713\n",
       "3             0.857   0.744             1.739    1.547          0.706  0.674\n",
       "4             0.795   0.809             1.734    1.715          0.549  0.654\n",
       "5             0.787   0.779             1.509    1.474          0.782  0.571\n",
       "6             0.933   0.880             1.695    1.656          0.737  0.803\n",
       "7             0.799   0.851             1.740    1.777          0.618  0.682\n",
       "8             0.945   0.876             1.811    1.759          0.853  0.777\n",
       "9             0.921   0.906             1.954    2.009          0.823  0.765\n",
       "10            0.792   0.825             1.624    1.657          0.686  0.668\n",
       "11            0.815   0.751             2.204    1.846          0.678  0.546\n",
       "12            0.755   0.724             1.508    1.458          0.662  0.595\n",
       "13            0.880   0.866             1.786    1.811          0.810  0.819\n",
       "14            0.900   0.838             1.902    1.606          0.723  0.677\n",
       "15            0.764   0.757             1.743    1.794          0.586  0.541\n",
       "16            0.733   0.748             1.863    1.869          0.672  0.752\n",
       "17            0.932   0.898             2.028    2.032          0.836  0.805\n",
       "18            0.856   0.786             1.390    1.324          0.578  0.610\n",
       "19            0.890   0.950             2.187    2.087          0.758  0.718\n",
       "20            0.688   0.532             1.650    1.378          0.533  0.482\n",
       "21            0.940   0.850             2.334    2.225          0.757  0.731\n",
       "22            0.493   0.616             1.037    1.268          0.546  0.615\n",
       "23            0.835   0.752             1.509    1.422          0.618  0.664\n",
       "24            0.915   0.936             1.971    1.869          0.869  0.868"
      ]
     },
     "execution_count": 84,
     "metadata": {},
     "output_type": "execute_result"
    }
   ],
   "source": [
    "# It's the contents of *Table 1.8*\n",
    "# 1.103 1.052 2.139 2.238 0.873 0.872 0.842 0.859 1.873 1.741 0.590 0.744 0.925 0.873 1.887 1.809 0.767 0.713 0.857 0.744 1.739 1.547 0.706 0.674 0.795 0.809 1.734 1.715 0.549 0.654 0.787 0.779 1.509 1.474 0.782 0.571 0.933 0.880 1.695 1.656 0.737 0.803 0.799 0.851 1.740 1.777 0.618 0.682 0.945 0.876 1.811 1.759 0.853 0.777 0.921 0.906 1.954 2.009 0.823 0.765 0.792 0.825 1.624 1.657 0.686 0.668 0.815 0.751 2.204 1.846 0.678 0.546 0.755 0.724 1.508 1.458 0.662 0.595 0.880 0.866 1.786 1.811 0.810 0.819 0.900 0.838 1.902 1.606 0.723 0.677 0.764 0.757 1.743 1.794 0.586 0.541 0.733 0.748 1.863 1.869 0.672 0.752 0.932 0.898 2.028 2.032 0.836 0.805 0.856 0.786 1.390 1.324 0.578 0.610 0.890 0.950 2.187 2.087 0.758 0.718 0.688 0.532 1.650 1.378 0.533 0.482 0.940 0.850 2.334 2.225 0.757 0.731 0.493 0.616 1.037 1.268 0.546 0.615 0.835 0.752 1.509 1.422 0.618 0.664 0.915 0.936 1.971 1.869 0.869 0.868\n",
    "import numpy as np\n",
    "import pandas as pd\n",
    "data = '1.103 1.052 2.139 2.238 0.873 0.872 0.842 0.859 1.873 1.741 0.590 0.744 0.925 0.873 1.887 1.809 0.767 0.713 0.857 0.744 1.739 1.547 0.706 0.674 0.795 0.809 1.734 1.715 0.549 0.654 0.787 0.779 1.509 1.474 0.782 0.571 0.933 0.880 1.695 1.656 0.737 0.803 0.799 0.851 1.740 1.777 0.618 0.682 0.945 0.876 1.811 1.759 0.853 0.777 0.921 0.906 1.954 2.009 0.823 0.765 0.792 0.825 1.624 1.657 0.686 0.668 0.815 0.751 2.204 1.846 0.678 0.546 0.755 0.724 1.508 1.458 0.662 0.595 0.880 0.866 1.786 1.811 0.810 0.819 0.900 0.838 1.902 1.606 0.723 0.677 0.764 0.757 1.743 1.794 0.586 0.541 0.733 0.748 1.863 1.869 0.672 0.752 0.932 0.898 2.028 2.032 0.836 0.805 0.856 0.786 1.390 1.324 0.578 0.610 0.890 0.950 2.187 2.087 0.758 0.718 0.688 0.532 1.650 1.378 0.533 0.482 0.940 0.850 2.334 2.225 0.757 0.731 0.493 0.616 1.037 1.268 0.546 0.615 0.835 0.752 1.509 1.422 0.618 0.664 0.915 0.936 1.971 1.869 0.869 0.868'\n",
    "data = data.split(\" \")\n",
    "data = [float(x) for x in data]\n",
    "data = np.array(data)\n",
    "data.resize((25,6))\n",
    "\n",
    "df = pd.DataFrame(data)\n",
    "df.columns = ['Dominant radius', 'Radius', 'Dominant humerus',\\\n",
    "              'Humerus', 'Dominant ulna', 'Ulna']\n",
    "df"
   ]
  },
  {
   "cell_type": "code",
   "execution_count": 85,
   "metadata": {},
   "outputs": [
    {
     "data": {
      "text/plain": [
       "array([0.8438 , 0.81832, 1.79268, 1.73484, 0.7044 , 0.69384])"
      ]
     },
     "execution_count": 85,
     "metadata": {},
     "output_type": "execute_result"
    }
   ],
   "source": [
    "# average x\n",
    "x_bar = data.mean(axis = 0)\n",
    "x_bar"
   ]
  },
  {
   "cell_type": "markdown",
   "metadata": {},
   "source": [
    "That's our $\\bar{x}$.\n",
    "\n",
    "Now we're gonna try to figure the marix $S_n$ out.\n",
    "\n",
    "The covariance,$s_{kl}=n^{-1}\\Sigma^{n}_{j=1}(x_{jk}-\\bar{x_k})(x_{jl}-\\bar{x_l})$\n",
    "\n",
    "That is to say that $S_n = n^{-1}Y^T Y$, in which $Y$ means:\n",
    "\n",
    "$$\n",
    "Y=\n",
    "\\begin{bmatrix}\n",
    "x_{1,1}-\\bar{x_1} & x_{1,2}-\\bar{x_2} & \\cdots & x_{1,6}-\\bar{x_6} \\\\\n",
    "x_{2,1}-\\bar{x_1} & x_{2,2}-\\bar{x_2} & \\cdots & x_{2,6}-\\bar{x_6} \\\\\n",
    "\\vdots & \\vdots & \\ddots & \\vdots \\\\\n",
    "x_{25,1}-\\bar{x_1} & x_{25,2}-\\bar{x_2} & \\cdots & x_{25,6}-\\bar{x_6}\n",
    "\\end{bmatrix}\n",
    "$$"
   ]
  },
  {
   "cell_type": "code",
   "execution_count": 86,
   "metadata": {},
   "outputs": [
    {
     "data": {
      "text/plain": [
       "array([[0.01248152, 0.0099633 , 0.02145598, 0.01928225, 0.00875588,\n",
       "        0.00763953],\n",
       "       [0.0099633 , 0.01096118, 0.01779378, 0.02025553, 0.00818859,\n",
       "        0.00855217],\n",
       "       [0.02145598, 0.01779378, 0.07714294, 0.06410515, 0.01616345,\n",
       "        0.01233315],\n",
       "       [0.01928225, 0.02025553, 0.06410515, 0.06670509, 0.01702606,\n",
       "        0.01612185],\n",
       "       [0.00875588, 0.00818859, 0.01616345, 0.01702606, 0.01110568,\n",
       "        0.0077483 ],\n",
       "       [0.00763953, 0.00855217, 0.01233315, 0.01612185, 0.0077483 ,\n",
       "        0.01017517]])"
      ]
     },
     "execution_count": 86,
     "metadata": {},
     "output_type": "execute_result"
    }
   ],
   "source": [
    "# Now we get Y\n",
    "Y = data.T\n",
    "for i in range(6):\n",
    "    Y[i] = data.T[i] - x_bar[i]\n",
    "Y = Y.T\n",
    "n = 25\n",
    "Sn = ((n)**(-1)) * (Y.T @ Y)\n",
    "Sn"
   ]
  },
  {
   "cell_type": "markdown",
   "metadata": {},
   "source": [
    "It's the matrix $S_n$ we need, with which we can try to work out the matrix $R$ relying on thematrix $S_n$, for $r_{i,j}=s_{ij}/(\\sqrt{s_{ii}}\\sqrt{s_{jj}})$.\n",
    "\n"
   ]
  },
  {
   "cell_type": "code",
   "execution_count": 87,
   "metadata": {},
   "outputs": [
    {
     "data": {
      "text/plain": [
       "array([[1.        , 0.85180667, 0.69145903, 0.6682584 , 0.74369264,\n",
       "        0.67789411],\n",
       "       [0.85180667, 1.        , 0.61191568, 0.74909264, 0.74217795,\n",
       "        0.80979828],\n",
       "       [0.69145903, 0.61191568, 1.        , 0.89364561, 0.55222154,\n",
       "        0.44020498],\n",
       "       [0.6682584 , 0.74909264, 0.89364561, 1.        , 0.62555022,\n",
       "        0.61882031],\n",
       "       [0.74369264, 0.74217795, 0.55222154, 0.62555022, 1.        ,\n",
       "        0.72889193],\n",
       "       [0.67789411, 0.80979828, 0.44020498, 0.61882031, 0.72889193,\n",
       "        1.        ]])"
      ]
     },
     "execution_count": 87,
     "metadata": {},
     "output_type": "execute_result"
    }
   ],
   "source": [
    "# Now we get R\n",
    "R = np.zeros((6,6))\n",
    "for i in range(6):\n",
    "    for j in range(6): \n",
    "        R[i,j] = Sn[i,j]/((np.sqrt(Sn[i,i])*np.sqrt(Sn[j,j])))\n",
    "R\n"
   ]
  },
  {
   "cell_type": "markdown",
   "metadata": {},
   "source": [
    "Finally we have all three matrices we need. We can have a general summary."
   ]
  },
  {
   "cell_type": "code",
   "execution_count": 88,
   "metadata": {},
   "outputs": [
    {
     "name": "stdout",
     "output_type": "stream",
     "text": [
      "average x:\n",
      " [0.8438  0.81832 1.79268 1.73484 0.7044  0.69384] \n",
      "\n",
      "matrix S_n:\n",
      " [[0.01248152 0.0099633  0.02145598 0.01928225 0.00875588 0.00763953]\n",
      " [0.0099633  0.01096118 0.01779378 0.02025553 0.00818859 0.00855217]\n",
      " [0.02145598 0.01779378 0.07714294 0.06410515 0.01616345 0.01233315]\n",
      " [0.01928225 0.02025553 0.06410515 0.06670509 0.01702606 0.01612185]\n",
      " [0.00875588 0.00818859 0.01616345 0.01702606 0.01110568 0.0077483 ]\n",
      " [0.00763953 0.00855217 0.01233315 0.01612185 0.0077483  0.01017517]] \n",
      "\n",
      "matrix R:\n",
      " [[1.         0.85180667 0.69145903 0.6682584  0.74369264 0.67789411]\n",
      " [0.85180667 1.         0.61191568 0.74909264 0.74217795 0.80979828]\n",
      " [0.69145903 0.61191568 1.         0.89364561 0.55222154 0.44020498]\n",
      " [0.6682584  0.74909264 0.89364561 1.         0.62555022 0.61882031]\n",
      " [0.74369264 0.74217795 0.55222154 0.62555022 1.         0.72889193]\n",
      " [0.67789411 0.80979828 0.44020498 0.61882031 0.72889193 1.        ]] \n",
      "\n",
      "\n",
      "min and max of R:\n",
      " 0.44020498275924475 1.0000000000000002\n"
     ]
    }
   ],
   "source": [
    "print(\"average x:\\n\", x_bar,\"\\n\\nmatrix S_n:\\n\", Sn, \"\\n\\nmatrix R:\\n\", R, \\\n",
    "      \"\\n\\n\\nmin and max of R:\\n\", R.min(), R.max())"
   ]
  },
  {
   "cell_type": "code",
   "execution_count": 89,
   "metadata": {},
   "outputs": [
    {
     "name": "stdout",
     "output_type": "stream",
     "text": [
      "\n",
      "\n",
      "PAIRWISE CORRELATION:\n",
      " 0.851806669013503 0.8936456067369467 0.728891931930953\n"
     ]
    }
   ],
   "source": [
    "print(\"\\n\\nPAIRWISE CORRELATION:\\n\", R[0,1], R[2,3], R[4,5])"
   ]
  },
  {
   "cell_type": "markdown",
   "metadata": {},
   "source": [
    "We're almost certainly sure about the pairwise correlation between the **dominant group** and the **non-dominant group**.\n",
    "- The correlation between the dominant radius and the radius is 0.851.\n",
    "- The correlation between the dominant humerus and the humerus is 0.894.\n",
    "- The correlation between the dominant ulna and the ulna is 0.729.\n",
    "\n",
    "So the **dominant group** and the **non-dominant group** are **strongly correlated**."
   ]
  },
  {
   "cell_type": "markdown",
   "metadata": {},
   "source": [
    "## exercise 2.12\n",
    "\n",
    "> Show that the determinant of a square symmetric   $p$  &times $p$ matrix $A$ can be expressed as the product of its eigenvalues $\\lambda_1$,$\\lambda_2$……$\\lambda_p$; that is, $\\prod_{i=1}^p{\\lambda_i}$\n",
    "\n",
    "Based on our knowledge obtained in Advanced Algebra, we reasonably apply the *spectral decomposition* method to the matrix $A$, then we would get that:\n",
    "$$A = P^{T} \\triangle P$$  \n",
    "in which   $\\triangle$=\n",
    "\n",
    "$$\n",
    "\\begin{bmatrix}\n",
    "\\lambda_{1} & 0 & \\cdots & 0 \\\\\n",
    "0 & \\lambda_{2} & \\cdots & 0 \\\\\n",
    "\\vdots & \\vdots & \\ddots & \\vdots \\\\\n",
    "0 & 0 & \\cdots & \\lambda_{p}\n",
    "\\end{bmatrix} ,\n",
    "$$\n",
    "\n",
    "while the column vectors  the matrix $P$  are also the eigenvectors of the orignal matrix $A$.\n",
    "According to the definitions of spectral decomposition, we know that  $|P|=1$\n",
    "Then we find that \n",
    "$$\n",
    "|A| = |P^T||\\triangle||P| = |P|^2|\\triangle| =|\\triangle|=\\prod_{i=1}^p{\\lambda_i}\n",
    "$$\n",
    "Now it’s proven."
   ]
  },
  {
   "cell_type": "markdown",
   "metadata": {},
   "source": [
    "## Exercise 2.18\n",
    "> Consider the sets of points whose “distances” from the origin are given by  \n",
    "> $$c^2 = 4{x_1}^2+3{x_2}^2-2{\\sqrt{2} }x_1x_2$$\n",
    "> for $c^2=1$ and for $c^2=4$. Determine the major and minor axes of the ellipses of constant distances and their associated lengths. Sketch the ellipses of constant distances and comment on their positions. What will happen as $c^2$ increases?"
   ]
  },
  {
   "cell_type": "markdown",
   "metadata": {},
   "source": [
    "\n",
    "Note that $c^2=x^T\\begin{bmatrix}4&{-\\sqrt{2}}\\\\{-\\sqrt{2}}&3\\end{bmatrix}x, x=\\begin{bmatrix}x_1\\\\x_2\\end{bmatrix}$.  \n",
    "Perhaps we can find the eigenvalues and eigenvectors of the matrix $\\begin{bmatrix}4&{-\\sqrt{2}}\\\\{-\\sqrt{2}}&{3}\\end{bmatrix}$, then we can get the major and minor axes of the ellipses of constant distances."
   ]
  },
  {
   "cell_type": "code",
   "execution_count": 90,
   "metadata": {},
   "outputs": [
    {
     "data": {
      "text/plain": [
       "(array([5., 2.]),\n",
       " array([[ 0.81649658,  0.57735027],\n",
       "        [-0.57735027,  0.81649658]]))"
      ]
     },
     "execution_count": 90,
     "metadata": {},
     "output_type": "execute_result"
    }
   ],
   "source": [
    "import numpy as np\n",
    "A = np.array([[4, -np.sqrt(2)], [-np.sqrt(2), 3]])\n",
    "eigvals, eigvecs = np.linalg.eig(A)\n",
    "eigvals, eigvecs"
   ]
  },
  {
   "cell_type": "markdown",
   "metadata": {},
   "source": [
    "We use Python to calculate the eigenvalues and eigenvectors of the matrix $\\begin{bmatrix}4&{-\\sqrt{2}}\\\\{-\\sqrt{2}}&{3}\\end{bmatrix}$.\n",
    "Now we can do the following operator:\n",
    "$$\n",
    "\\begin{bmatrix}4&{-\\sqrt{2}}\\\\{-\\sqrt{2}}&{3}\\end{bmatrix}\n",
    "=P\\Lambda P^T\n",
    "$$\n",
    "$$\n",
    "P = \\begin{bmatrix}0.81649658&0.57735027\\\\-0.57735027&0.81649658\\end{bmatrix} , \n",
    "\\Lambda = \\begin{bmatrix}5&0\\\\0&2\\end{bmatrix}\n",
    "$$\n",
    "with which we can infer that\n",
    "$$\n",
    "1=X^TP(\\frac{1}{c^2}\\Lambda)P^TX,$$\n",
    "which is to say, \n",
    "\n",
    "$$\n",
    "1=(p^TX)^T{ \\begin{bmatrix}{\\lambda_1/{c^2}}&0\\\\0&\\lambda_2/c^2 \\end{bmatrix}}(p^TX)^T  \n",
    ",\n",
    "$$\n",
    "with\n",
    "$$\\lambda_1=5,\\lambda_2=2.\n",
    "$$\n",
    "In this equation, $p^TX$ is no more than a vector, the direction of which is changed from the original $X$ to the current one. Remember that its length is the same as that of $X$, for $P$ has been normalized.\n",
    "In this case, an epllise has been depicted perfectly. The minor axe is $\\frac{c}{\\sqrt\\lambda_1}$ , and the major axe is $\\frac{c}{\\sqrt\\lambda_2}$.\n",
    "  "
   ]
  },
  {
   "cell_type": "code",
   "execution_count": 91,
   "metadata": {},
   "outputs": [
    {
     "data": {
      "text/plain": [
       "(0.7071067811865475, 0.4472135954999579)"
      ]
     },
     "execution_count": 91,
     "metadata": {},
     "output_type": "execute_result"
    }
   ],
   "source": [
    "1/np.sqrt(2),1/np.sqrt(5)"
   ]
  },
  {
   "cell_type": "code",
   "execution_count": 92,
   "metadata": {},
   "outputs": [
    {
     "data": {
      "text/plain": [
       "(1.414213562373095, 0.8944271909999159)"
      ]
     },
     "execution_count": 92,
     "metadata": {},
     "output_type": "execute_result"
    }
   ],
   "source": [
    "2/np.sqrt(2),2/np.sqrt(5)"
   ]
  },
  {
   "cell_type": "markdown",
   "metadata": {},
   "source": [
    "\n",
    "**For $c^2=1$, major axis length is $1/\\sqrt2$ or $0.707$, minor axis length is $1/\\sqrt{5}$ or $0.447$.**  \n",
    "\n",
    "**For $c^2=4$, major axis length is $\\sqrt2$ or $1.414$, minor axis length is $2/\\sqrt5$ or $0.894$.**  \n",
    "\n",
    "According to what we get, we find the minor axe is always $\\frac{c}{\\sqrt\\lambda_1}$ , and the major axe is awlays $\\frac{c}{\\sqrt\\lambda_2}$.  \n",
    "**So as c increases, axes will also increase.**\n"
   ]
  },
  {
   "cell_type": "markdown",
   "metadata": {},
   "source": [
    "## exercise 2.19\n",
    "\n",
    "> Let $A^{\\frac{1}{2}}_{(m\\times m)} =\\sum^{m}_{j=1}\\sqrt{\\lambda_i}e_ie_i^{T}=P\\Lambda P^T$, where $PP^T = P^TP = I$. (The $\\lambda_i$’s and the $e_i$’s are the eigenvalues and associated normalized eigenvectors of the matrix $A$.) Show properties (1)—(4) of the square-root matrix in (2-22).\n",
    "\n",
    "$(Proof)$.\n",
    "\n",
    "### *(1)*. \n",
    "$(A^{1/2})^T=(P \\Lambda^{1/2}P^T)^T$, in which $\\Lambda =$\n",
    "\n",
    "$$\n",
    "\\begin{bmatrix}\n",
    "\\lambda_{1}^{1/2} & 0 & \\cdots & 0 \\\\\n",
    "0 & \\lambda_{2}^{1/2} & \\cdots & 0 \\\\\n",
    "\\vdots & \\vdots & \\ddots & \\vdots \\\\\n",
    "0 & 0 & \\cdots & \\lambda_{n}^{1/2}\n",
    "\\end{bmatrix}\n",
    "$$\n",
    "\n",
    "Based on our knowledge of Advanced Algebra, we judge that $\\Lambda^{1/2}$ is a symmetric matrix, so we reasonably believe that\n",
    "$$\n",
    "(A^{1/2})^T=P\\Lambda^{1/2}P^T=A^{1/2}\n",
    "$$\n",
    "\n",
    "### *(2)*\n",
    "$$\n",
    "A^{1/2}A^{1/2}=P\\Lambda^{1/2}P^TP\\Lambda^{1/2}P^T\n",
    "=P\\Lambda^{1/2}(P^TP)\\Lambda^{1/2}P^T$$\n",
    "$$=P\\Lambda^{1/2}I\\Lambda^{1/2}P^T=P\\Lambda P^T=A$$\n",
    "\n",
    "\n",
    "### *(3)*\n",
    "It’s not difficult to make following judgements:\n",
    "$$(A^{1/2})^{-1}=(P\\Lambda P^T)^{-1}=(P^T)^{-1}(\\Lambda^T)^{-1}P^{-1}$$\n",
    "Based on what we learn about Advanced Algebra, we believe that $P^{T}P=I$, which is equivalent to that $P^T=P^{-1}$.  \n",
    "\n",
    "Since the $\\Lambda^{-\\frac{1}{2}}$ is defined by the textbook to be a diagonal matrix, with $(\\lambda_i^{-1/2})$ to be the i$th$ diagonal element.\n",
    "Undoubtedly, according to the properties of diagonal matrices, $\\Lambda^{1/2}\\Lambda^{-1/2}=diag(\\lambda^{1/2}_i\\lambda^{-1/2}_i) for i=1,2,3…n$, which is to say that\n",
    "$$\\Lambda^{1/2}\\Lambda^{-1/2}=I_(m\\times m)$$\n",
    "Now we got that $(\\Lambda^{1/2})^{-1}=\\Lambda^{-1/2}$, which finally evidently proves that \n",
    "$$(A^{1/2})^{-1}=P\\Lambda^{-1/2}P^T$$\n",
    "\n",
    "### *(4)*\n",
    "Firstly,$$A^{1/2}A^{-1/2}=P^{-1/2}A^{1/2}\n",
    "=P\\Lambda^{1/2}P^TP\\Lambda^{-1/2}P^T=P\\Lambda^{1/2}I\\Lambda^{-1/2}P^T\n",
    "=PIP^T=PP^T=I$$\n",
    "Then, it’s easy to get that$$A^{1/2}A^{-1/2}=P\\Lambda^{-1/2}P^T=P\\Lambda^{-1}P^T=A^{-1}$$\n",
    "\n"
   ]
  },
  {
   "cell_type": "markdown",
   "metadata": {},
   "source": [
    "## exercise 2.41\n",
    "> You are given the random vector $X^T=[X_1,X_2,X_3,X_4]$ with mean vector $\\mu^T_X=[3,2,-2,0]$ and variance-covariant matrix \n",
    "> $$\n",
    "> \\Sigma_X=\\begin{bmatrix}\n",
    "> 3 & 0 & 0 & 0 \\\\\n",
    "> 0 & 3 & 0 & 0 \\\\\n",
    "> 0&0&3&0\\\\\n",
    "> 0&0&0&3\n",
    "> \\end{bmatrix} \n",
    "> $$\n",
    "> Let $$A=\n",
    "> \\begin{bmatrix}\n",
    "> 1&-1&0&0\\\\\n",
    "> 1&1&-2&0\\\\\n",
    "> 1&1&1&-3\n",
    "> \\end{bmatrix}$$\n",
    "> (a) Find $E(AX$), the mean of $AX$.  \n",
    "> (b) Find $Cov(AX$), the variances and covariances of $AX$.  \n",
    "> (c) Which pairs of linear combinations have zero covariances?\n",
    "\n",
    "$(Solution).$"
   ]
  },
  {
   "cell_type": "code",
   "execution_count": 93,
   "metadata": {},
   "outputs": [],
   "source": [
    "import numpy as np\n",
    "\n",
    "A = np.array([[1,-1,0,0],\n",
    "              [1,1,-2,0],\n",
    "              [1,1,1,-3]])\n",
    "mu = np.array([3,2,-2,0])\n",
    "Sigma = np.array([[3,0,0,0],\n",
    "                  [0,3,0,0],\n",
    "                  [0,0,3,0],\n",
    "                  [0,0,0,3]])\n"
   ]
  },
  {
   "cell_type": "markdown",
   "metadata": {},
   "source": [
    "### (a)\n",
    "$$AX=\\begin{bmatrix}X_1-X_2\\\\X_1+X_2-2X_3 \\\\X_1+X_2+X_3-3X_4 \\end{bmatrix}=\\begin{bmatrix}Y_1\\\\Y_2\\\\Y_3 \\end{bmatrix}$$"
   ]
  },
  {
   "cell_type": "code",
   "execution_count": 94,
   "metadata": {},
   "outputs": [
    {
     "data": {
      "text/plain": [
       "array([1, 9, 3])"
      ]
     },
     "execution_count": 94,
     "metadata": {},
     "output_type": "execute_result"
    }
   ],
   "source": [
    "expectation_of_AX = np.dot(A,mu)\n",
    "expectation_of_AX"
   ]
  },
  {
   "cell_type": "markdown",
   "metadata": {},
   "source": [
    "So,\n",
    "$$E(AX)= \\begin{bmatrix} 1\\\\9\\\\3 \\end{bmatrix}$$"
   ]
  },
  {
   "cell_type": "markdown",
   "metadata": {},
   "source": [
    "### (b)"
   ]
  },
  {
   "cell_type": "code",
   "execution_count": 95,
   "metadata": {},
   "outputs": [],
   "source": [
    "covariance_of_AX = np.dot(A, np.dot(Sigma,A.T))"
   ]
  },
  {
   "cell_type": "markdown",
   "metadata": {},
   "source": [
    "We reasonably to believe that $$Cov(AX)=Cov(\\begin{bmatrix}Y_1\\\\Y_2\\\\Y_3\\end{bmatrix})=\\begin{bmatrix}6&0&0\\\\0&18&0\\\\0&0&36 \\end{bmatrix}$$  \n",
    "### (c)\n",
    "It’s easy to find that all pairs of linear combinations have zero covarance."
   ]
  },
  {
   "cell_type": "markdown",
   "metadata": {},
   "source": [
    "## exercise 3.10\n",
    "> When the generalized variance is zero, it is the columns of the mean corrected data matrix $X_c=X-I\\bar{x}^t$ that are linearly dependent, not necessarily those of the data matrix itself. Given the data\n",
    ">$$ X=\\begin{bmatrix}3&1&0\n",
    "\\\\6&4&6\\\\4&2&2\\\\7&0&3\\\\5&3&4\\end{bmatrix}$$\n",
    ">(a) Obtain the mean corrected data matrix, and verify that the columns are linearly dependent. Specify an $a^T = [a_1,a_2,a_3]$ vector that establishes the dependence.<br>\n",
    "> (b) Obtain the sample covariance matrix S, and verify that the generalized variance is zero.<br>\n",
    "> (c) Show that the columns of the data matrix are linearly independent in this case.\n",
    ">\n",
    "$(Solution).$"
   ]
  },
  {
   "cell_type": "code",
   "execution_count": 96,
   "metadata": {},
   "outputs": [
    {
     "name": "stdout",
     "output_type": "stream",
     "text": [
      "X_c=\n",
      " [[-2. -1. -3.]\n",
      " [ 1.  2.  3.]\n",
      " [-1.  0. -1.]\n",
      " [ 2. -2.  0.]\n",
      " [ 0.  1.  1.]]\n",
      "\n",
      "X_c_rank=\n",
      " 2\n"
     ]
    }
   ],
   "source": [
    "# Obtain the mean corrected data matrix\n",
    "X = np.array([[3,1,0],[6,4,6],[4,2,2],[7,0,3],[5,3,4]])\n",
    "\n",
    "X_c = X - np.dot(np.eye(3),np.mean(X, axis = 0))\n",
    "\n",
    "# verifythat the columns are linearly dependen\n",
    "# perhaps we should turn to the rank of the matrix\n",
    "X_c_rank = np.linalg.matrix_rank(X_c)\n",
    "print(\"X_c=\\n\",X_c);print(\"\\nX_c_rank=\\n\",X_c_rank)"
   ]
  },
  {
   "cell_type": "code",
   "execution_count": 97,
   "metadata": {},
   "outputs": [
    {
     "data": {
      "text/plain": [
       "array([[-2., -1., -3.],\n",
       "       [ 1.,  2.,  3.],\n",
       "       [-1.,  0., -1.],\n",
       "       [ 2., -2.,  0.],\n",
       "       [ 0.,  1.,  1.]])"
      ]
     },
     "execution_count": 97,
     "metadata": {},
     "output_type": "execute_result"
    }
   ],
   "source": [
    "X-np.dot(np.eye(3),np.mean(X, axis = 0))"
   ]
  },
  {
   "cell_type": "markdown",
   "metadata": {},
   "source": [
    "### (a) \n",
    "Firstly, we obtain the mean corrected data matrix through Numpy, **the mean corrected data** is:\n",
    "$$\n",
    "\\begin{bmatrix}\n",
    "-2&-1&-3\\\\\n",
    "1&2&3\\\\\n",
    "-1&0&-1\\\\\n",
    "2&-2&0\\\\\n",
    "0&1&1\n",
    "\\end{bmatrix}\n",
    "$$\n",
    "Then, we verify that the columns are linearly dependent by calculating the rank of the matrix, **the rank of the matrix is 2**, which means that the columns are **linearly dependent**.  \n",
    "It’s easy to find that $a^T = [1,1,1]$ establishes the dependence.\n",
    "  \n",
    "Note that $$Col_1(X_c)+Col_2(X_c)-Col_3(X_c)=0$$\n",
    "So, we can get that $a^T = [1,1,1]$ establishes the **dependence** when calculation shows that\n",
    "$$X_c a=\\begin{bmatrix}0\\\\0\\\\0\\\\0\\\\0\\end{bmatrix}$$\n",
    "Now we're certain that **the columns are linearly dependent**.\n",
    "\n"
   ]
  },
  {
   "cell_type": "markdown",
   "metadata": {},
   "source": [
    "### (b)\n",
    "Then, we obtain the sample covariance matrix $S=\\frac{1}{n-1}\\Sigma^n_{i=1}(x_i-\\bar{x})(x_i-\\bar{x})^T$\n",
    "Or we can use another way:$$S=\\frac{1}{n-1}(X-\\frac1n 1_n1_n^TX)^T(X-\\frac1n 1_n1_n^TX)=\\frac{1}{n-1}X^T(I_n-\\frac1n1_n1_n^T)X$$"
   ]
  },
  {
   "cell_type": "code",
   "execution_count": 98,
   "metadata": {},
   "outputs": [
    {
     "data": {
      "text/plain": [
       "array([[ 2.50000000e+00,  2.77555756e-16,  2.50000000e+00],\n",
       "       [-1.66533454e-16,  2.50000000e+00,  2.50000000e+00],\n",
       "       [ 2.50000000e+00,  2.50000000e+00,  5.00000000e+00]])"
      ]
     },
     "execution_count": 98,
     "metadata": {},
     "output_type": "execute_result"
    }
   ],
   "source": [
    "S = np.eye(5) - (1/5)*np.ones(5)\n",
    "S = (1/4)*np.dot(X.T , np.dot(S,X) )\n",
    "S"
   ]
  },
  {
   "cell_type": "markdown",
   "metadata": {},
   "source": [
    "We've obtained the covariance matrix \n",
    "$$S=\\begin{bmatrix}2.5&0&0\\\\0&2.5&2.5\\\\2.5&2.5&5\\end{bmatrix}$$\n",
    "with **generalized variance quals to**$$det(S)=0.$$\n",
    "so its generalized variance is **zero**."
   ]
  },
  {
   "cell_type": "markdown",
   "metadata": {},
   "source": [
    "### (c)\n",
    "Finally, we show that the columns of the data matrix are linearly independent in this case.\n",
    "We can use the same method as in (a) to verify that the columns of the data matrix are linearly independent. **The rank of the matrix is 3**, which means that the columns are **linearly independent**."
   ]
  },
  {
   "cell_type": "code",
   "execution_count": 99,
   "metadata": {},
   "outputs": [
    {
     "name": "stdout",
     "output_type": "stream",
     "text": [
      "\n",
      "X_rank=\n",
      " 3\n"
     ]
    }
   ],
   "source": [
    "X_rank = np.linalg.matrix_rank(X)\n",
    "print(\"\\nX_rank=\\n\",X_rank)"
   ]
  },
  {
   "cell_type": "markdown",
   "metadata": {},
   "source": [
    "## exercise 3.12\n",
    "\n",
    "> Show that $|S|=(s_{11}s_{22}…s_{pp})|R|$.    \n",
    "> *Hint*: From **Equation (3-30)**, $S = D^{1/2}RD^{1/2}$ . Taking determinants gives $|S|=|D^{1/2}||R||D^{1/2}|$. (See Result 2A.11.) Now examine |$D^{1/2}$|\n",
    "\n",
    "$(Proof).$  \n",
    "\n",
    "\n",
    "Based on equation(3-30), $S = D^{1/2}RD^{1/2}$.\n",
    "In other word, taking determinants gives $|S|=|D^{1/2}||R||D^{1/2}|$. \n",
    "To $D^{1/2}$, applying *advanced algebra* knowledge to it, we get that:\n",
    "$$|S^{1/2}|=\n",
    "\\text{det(diag}(s_{11}, s_{22}, \\dots, s_{pp})) \n",
    "$$\n",
    "$$=det(\n",
    "\\begin{bmatrix}\n",
    "s_{11} & 0 & \\cdots & 0 \\\\\n",
    "0 & s_{22} & \\cdots & 0 \\\\\n",
    "\\vdots & \\vdots & \\ddots & \\vdots \\\\\n",
    "0 & 0 & \\cdots & s_{pp} \\\\\n",
    "\\end{bmatrix}^{1/2}\n",
    ")\n",
    "$$\n",
    "$$\n",
    "=\n",
    "\\begin{vmatrix}\n",
    "\\sqrt{s_{11}} & 0 & \\cdots & 0 \\\\\n",
    "0 & \\sqrt{s_{22}} & \\cdots & 0 \\\\\n",
    "\\vdots & \\vdots & \\ddots & \\vdots \\\\\n",
    "0 & 0 & \\cdots & \\sqrt{s_{pp}} \\\\\n",
    "\\end{vmatrix}\n",
    "=\\sqrt{s_{11}}\\sqrt{s_{22}}…\\sqrt{s_{pp}}\n",
    "$$\n",
    "Then obviously $|S|=(\\sqrt{s_{11}}\\sqrt{s_{22}}…\\sqrt{s_{pp}})(\\sqrt{s_{11}}\\sqrt{s_{22}}…\\sqrt{s_{pp}})|R|$.\n",
    "  \n",
    "In other word, $|S|=(s_{11}s_{22}…s_{pp})|R|$.\n"
   ]
  },
  {
   "cell_type": "markdown",
   "metadata": {},
   "source": [
    "## exercise 3.20\n",
    "> In northern climates, roads must be cleared of snow quickly following a storm. One measure of storm severity is $x_1=$ its duration in hours, while the effectiveness of snow removal can be quantified by $x_2=$ the number of hours crews, men, and machine, spend to clear snow. Here are the results for 25 incidents in Wisconsin.  \n",
    "> \n",
    "> > The data can be found in **Table 3.2 Snow Data**\n",
    "> - (a). Find the sample mean and variance of the difference $x_2 - x_1$ by first obtaining the summary statistics.  \n",
    "> - (b). Obtain the mean and variance by first obtaining the individual values $x_{j2} - x_{j1}$,for j = 1, 2, . . ., 25 and then calculating the mean and variance. Compare these values with those obtained in part a.\n",
    "\n",
    "$(Solution).$"
   ]
  },
  {
   "cell_type": "code",
   "execution_count": 100,
   "metadata": {},
   "outputs": [
    {
     "data": {
      "text/html": [
       "<div>\n",
       "<style scoped>\n",
       "    .dataframe tbody tr th:only-of-type {\n",
       "        vertical-align: middle;\n",
       "    }\n",
       "\n",
       "    .dataframe tbody tr th {\n",
       "        vertical-align: top;\n",
       "    }\n",
       "\n",
       "    .dataframe thead th {\n",
       "        text-align: right;\n",
       "    }\n",
       "</style>\n",
       "<table border=\"1\" class=\"dataframe\">\n",
       "  <thead>\n",
       "    <tr style=\"text-align: right;\">\n",
       "      <th></th>\n",
       "      <th>0</th>\n",
       "    </tr>\n",
       "  </thead>\n",
       "  <tbody>\n",
       "    <tr>\n",
       "      <th>0</th>\n",
       "      <td>12.5  13.7</td>\n",
       "    </tr>\n",
       "    <tr>\n",
       "      <th>1</th>\n",
       "      <td>14.5  16.5</td>\n",
       "    </tr>\n",
       "    <tr>\n",
       "      <th>2</th>\n",
       "      <td>8.0   17.4</td>\n",
       "    </tr>\n",
       "    <tr>\n",
       "      <th>3</th>\n",
       "      <td>9.0   11.0</td>\n",
       "    </tr>\n",
       "    <tr>\n",
       "      <th>4</th>\n",
       "      <td>19.5  23.6</td>\n",
       "    </tr>\n",
       "    <tr>\n",
       "      <th>5</th>\n",
       "      <td>8.0   13.2</td>\n",
       "    </tr>\n",
       "    <tr>\n",
       "      <th>6</th>\n",
       "      <td>9.0   32.1</td>\n",
       "    </tr>\n",
       "    <tr>\n",
       "      <th>7</th>\n",
       "      <td>7.0   12.3</td>\n",
       "    </tr>\n",
       "    <tr>\n",
       "      <th>8</th>\n",
       "      <td>7.0   11.8</td>\n",
       "    </tr>\n",
       "    <tr>\n",
       "      <th>9</th>\n",
       "      <td>9.0   24.4</td>\n",
       "    </tr>\n",
       "    <tr>\n",
       "      <th>10</th>\n",
       "      <td>6.5   18.2</td>\n",
       "    </tr>\n",
       "    <tr>\n",
       "      <th>11</th>\n",
       "      <td>10.5  22.0</td>\n",
       "    </tr>\n",
       "    <tr>\n",
       "      <th>12</th>\n",
       "      <td>10.0  32.5</td>\n",
       "    </tr>\n",
       "    <tr>\n",
       "      <th>13</th>\n",
       "      <td>4.5   18.7</td>\n",
       "    </tr>\n",
       "    <tr>\n",
       "      <th>14</th>\n",
       "      <td>7.0   15.8</td>\n",
       "    </tr>\n",
       "    <tr>\n",
       "      <th>15</th>\n",
       "      <td>8.5   15.6</td>\n",
       "    </tr>\n",
       "    <tr>\n",
       "      <th>16</th>\n",
       "      <td>6.5   12.0</td>\n",
       "    </tr>\n",
       "    <tr>\n",
       "      <th>17</th>\n",
       "      <td>8.0   12.8</td>\n",
       "    </tr>\n",
       "    <tr>\n",
       "      <th>18</th>\n",
       "      <td>3.5   26.1</td>\n",
       "    </tr>\n",
       "    <tr>\n",
       "      <th>19</th>\n",
       "      <td>8.0   14.5</td>\n",
       "    </tr>\n",
       "    <tr>\n",
       "      <th>20</th>\n",
       "      <td>17.5  42.3</td>\n",
       "    </tr>\n",
       "    <tr>\n",
       "      <th>21</th>\n",
       "      <td>10.5  17.5</td>\n",
       "    </tr>\n",
       "    <tr>\n",
       "      <th>22</th>\n",
       "      <td>12.0  21.8</td>\n",
       "    </tr>\n",
       "    <tr>\n",
       "      <th>23</th>\n",
       "      <td>6.0   10.4</td>\n",
       "    </tr>\n",
       "    <tr>\n",
       "      <th>24</th>\n",
       "      <td>13.0  25.6</td>\n",
       "    </tr>\n",
       "  </tbody>\n",
       "</table>\n",
       "</div>"
      ],
      "text/plain": [
       "              0\n",
       "0    12.5  13.7\n",
       "1    14.5  16.5\n",
       "2    8.0   17.4\n",
       "3    9.0   11.0\n",
       "4    19.5  23.6\n",
       "5    8.0   13.2\n",
       "6    9.0   32.1\n",
       "7    7.0   12.3\n",
       "8    7.0   11.8\n",
       "9    9.0   24.4\n",
       "10   6.5   18.2\n",
       "11   10.5  22.0\n",
       "12   10.0  32.5\n",
       "13   4.5   18.7\n",
       "14   7.0   15.8\n",
       "15   8.5   15.6\n",
       "16   6.5   12.0\n",
       "17   8.0   12.8\n",
       "18   3.5   26.1\n",
       "19   8.0   14.5\n",
       "20   17.5  42.3\n",
       "21   10.5  17.5\n",
       "22   12.0  21.8\n",
       "23   6.0   10.4\n",
       "24   13.0  25.6"
      ]
     },
     "execution_count": 100,
     "metadata": {},
     "output_type": "execute_result"
    }
   ],
   "source": [
    "# Now there's still only one column, which is a string.\n",
    "# We try to modify it.\n",
    "snow_data = pd.read_table(r\"D:\\A-多元统计分析\\Wichern_data\\Wichern_data\\T3-2.DAT\", \\\n",
    "                               header=None,engine='python')\n",
    "\n",
    "snow_data"
   ]
  },
  {
   "cell_type": "code",
   "execution_count": 101,
   "metadata": {},
   "outputs": [
    {
     "data": {
      "text/html": [
       "<div>\n",
       "<style scoped>\n",
       "    .dataframe tbody tr th:only-of-type {\n",
       "        vertical-align: middle;\n",
       "    }\n",
       "\n",
       "    .dataframe tbody tr th {\n",
       "        vertical-align: top;\n",
       "    }\n",
       "\n",
       "    .dataframe thead th {\n",
       "        text-align: right;\n",
       "    }\n",
       "</style>\n",
       "<table border=\"1\" class=\"dataframe\">\n",
       "  <thead>\n",
       "    <tr style=\"text-align: right;\">\n",
       "      <th></th>\n",
       "      <th>x1</th>\n",
       "      <th>x2</th>\n",
       "    </tr>\n",
       "  </thead>\n",
       "  <tbody>\n",
       "    <tr>\n",
       "      <th>0</th>\n",
       "      <td>12.5</td>\n",
       "      <td>13.7</td>\n",
       "    </tr>\n",
       "    <tr>\n",
       "      <th>1</th>\n",
       "      <td>14.5</td>\n",
       "      <td>16.5</td>\n",
       "    </tr>\n",
       "    <tr>\n",
       "      <th>2</th>\n",
       "      <td>8.0</td>\n",
       "      <td>17.4</td>\n",
       "    </tr>\n",
       "    <tr>\n",
       "      <th>3</th>\n",
       "      <td>9.0</td>\n",
       "      <td>11.0</td>\n",
       "    </tr>\n",
       "    <tr>\n",
       "      <th>4</th>\n",
       "      <td>19.5</td>\n",
       "      <td>23.6</td>\n",
       "    </tr>\n",
       "    <tr>\n",
       "      <th>5</th>\n",
       "      <td>8.0</td>\n",
       "      <td>13.2</td>\n",
       "    </tr>\n",
       "    <tr>\n",
       "      <th>6</th>\n",
       "      <td>9.0</td>\n",
       "      <td>32.1</td>\n",
       "    </tr>\n",
       "    <tr>\n",
       "      <th>7</th>\n",
       "      <td>7.0</td>\n",
       "      <td>12.3</td>\n",
       "    </tr>\n",
       "    <tr>\n",
       "      <th>8</th>\n",
       "      <td>7.0</td>\n",
       "      <td>11.8</td>\n",
       "    </tr>\n",
       "    <tr>\n",
       "      <th>9</th>\n",
       "      <td>9.0</td>\n",
       "      <td>24.4</td>\n",
       "    </tr>\n",
       "    <tr>\n",
       "      <th>10</th>\n",
       "      <td>6.5</td>\n",
       "      <td>18.2</td>\n",
       "    </tr>\n",
       "    <tr>\n",
       "      <th>11</th>\n",
       "      <td>10.5</td>\n",
       "      <td>22.0</td>\n",
       "    </tr>\n",
       "    <tr>\n",
       "      <th>12</th>\n",
       "      <td>10.0</td>\n",
       "      <td>32.5</td>\n",
       "    </tr>\n",
       "    <tr>\n",
       "      <th>13</th>\n",
       "      <td>4.5</td>\n",
       "      <td>18.7</td>\n",
       "    </tr>\n",
       "    <tr>\n",
       "      <th>14</th>\n",
       "      <td>7.0</td>\n",
       "      <td>15.8</td>\n",
       "    </tr>\n",
       "    <tr>\n",
       "      <th>15</th>\n",
       "      <td>8.5</td>\n",
       "      <td>15.6</td>\n",
       "    </tr>\n",
       "    <tr>\n",
       "      <th>16</th>\n",
       "      <td>6.5</td>\n",
       "      <td>12.0</td>\n",
       "    </tr>\n",
       "    <tr>\n",
       "      <th>17</th>\n",
       "      <td>8.0</td>\n",
       "      <td>12.8</td>\n",
       "    </tr>\n",
       "    <tr>\n",
       "      <th>18</th>\n",
       "      <td>3.5</td>\n",
       "      <td>26.1</td>\n",
       "    </tr>\n",
       "    <tr>\n",
       "      <th>19</th>\n",
       "      <td>8.0</td>\n",
       "      <td>14.5</td>\n",
       "    </tr>\n",
       "    <tr>\n",
       "      <th>20</th>\n",
       "      <td>17.5</td>\n",
       "      <td>42.3</td>\n",
       "    </tr>\n",
       "    <tr>\n",
       "      <th>21</th>\n",
       "      <td>10.5</td>\n",
       "      <td>17.5</td>\n",
       "    </tr>\n",
       "    <tr>\n",
       "      <th>22</th>\n",
       "      <td>12.0</td>\n",
       "      <td>21.8</td>\n",
       "    </tr>\n",
       "    <tr>\n",
       "      <th>23</th>\n",
       "      <td>6.0</td>\n",
       "      <td>10.4</td>\n",
       "    </tr>\n",
       "    <tr>\n",
       "      <th>24</th>\n",
       "      <td>13.0</td>\n",
       "      <td>25.6</td>\n",
       "    </tr>\n",
       "  </tbody>\n",
       "</table>\n",
       "</div>"
      ],
      "text/plain": [
       "      x1    x2\n",
       "0   12.5  13.7\n",
       "1   14.5  16.5\n",
       "2    8.0  17.4\n",
       "3    9.0  11.0\n",
       "4   19.5  23.6\n",
       "5    8.0  13.2\n",
       "6    9.0  32.1\n",
       "7    7.0  12.3\n",
       "8    7.0  11.8\n",
       "9    9.0  24.4\n",
       "10   6.5  18.2\n",
       "11  10.5  22.0\n",
       "12  10.0  32.5\n",
       "13   4.5  18.7\n",
       "14   7.0  15.8\n",
       "15   8.5  15.6\n",
       "16   6.5  12.0\n",
       "17   8.0  12.8\n",
       "18   3.5  26.1\n",
       "19   8.0  14.5\n",
       "20  17.5  42.3\n",
       "21  10.5  17.5\n",
       "22  12.0  21.8\n",
       "23   6.0  10.4\n",
       "24  13.0  25.6"
      ]
     },
     "execution_count": 101,
     "metadata": {},
     "output_type": "execute_result"
    }
   ],
   "source": [
    "snow=[]\n",
    "for i in range(25):\n",
    "    x = snow_data[0][i].split()\n",
    "    snow.append([float(item) for item in x])\n",
    "\n",
    "snow_data = pd.DataFrame(snow,columns=['x1','x2'])\n",
    "snow_data\n"
   ]
  },
  {
   "cell_type": "markdown",
   "metadata": {},
   "source": [
    "### (a)\n",
    "Through simple data handling, we can obtain the sample mean and variance of the difference $x_{2} - x_{1}$.\n",
    "We let Python complete the task."
   ]
  },
  {
   "cell_type": "code",
   "execution_count": 102,
   "metadata": {},
   "outputs": [
    {
     "name": "stdout",
     "output_type": "stream",
     "text": [
      "The sample mean of the difference x2-x1 is:  9.852\n",
      "The sample variance of the difference x2-x1 is:  47.455296\n"
     ]
    }
   ],
   "source": [
    "snow = np.array(snow)\n",
    "snow_difference = snow.T[1] - snow.T[0]\n",
    "\n",
    "sample_mean = np.mean(snow_difference)\n",
    "print(\"The sample mean of the difference x2-x1 is: \",sample_mean)\n",
    "sample_variance = np.var(snow_difference)\n",
    "print(\"The sample variance of the difference x2-x1 is: \", sample_variance )\n"
   ]
  },
  {
   "cell_type": "markdown",
   "metadata": {},
   "source": [
    "Calculation states that:\n",
    "- the sample mean of the difference $x_2-x_1$ is :  **9.852**\n",
    "- the sample variance of the difference $x_2-x_1$ is :  **49.432599999999994**"
   ]
  },
  {
   "cell_type": "markdown",
   "metadata": {},
   "source": [
    "### (b)\n",
    "We can also calculate the mean and variance of the difference $x_{2} - x_{1}$ by first obtaining the individual values $x_{j2} - x_{j1}$,for j = 1, 2, . . ., 25 and then calculating the mean and variance.  \n",
    "Basicly the result is the same as (a)."
   ]
  },
  {
   "cell_type": "markdown",
   "metadata": {},
   "source": [
    "## exercise 4.4\n",
    "> Let $X$ be $N_3(\\mu,\\Sigma)$ with $\\mu^T = [2, -3, 1]$ and<br> \n",
    "> $$\n",
    "> \\Sigma = \\begin{bmatrix}\n",
    "> 1&1&1\\\\\n",
    "> 1&3&2\\\\\n",
    "> 1&2&2\n",
    "> \\end{bmatrix}\n",
    "> $$\n",
    "> - (a) Find the distribution of $3X_1 - 2X_2 + X_3$.\n",
    "> - (b) Relabel the variables if necessary, and find a $2 \\times 1$ vector $a$ such that $X_2$ and \n",
    "> $X_2 - a^T\\begin{bmatrix}X_1\\\\X_3\\end{bmatrix}$ are in dependent."
   ]
  },
  {
   "cell_type": "markdown",
   "metadata": {},
   "source": [
    "### (a)\n",
    "\n",
    "To find the distribution of $3X_1 -2X_2 +X_3 = \\alpha^T X, with\\text{ } \\alpha = (3, -2, 1)^T$<br>\n",
    "\n",
    "Based on what we have learned in the *Theory of Probability*, we know that the distribution of $\\alpha^T X$ is $N(\\alpha^T \\mu, \\alpha^T \\Sigma \\alpha)$<br>"
   ]
  },
  {
   "cell_type": "code",
   "execution_count": 103,
   "metadata": {},
   "outputs": [
    {
     "name": "stdout",
     "output_type": "stream",
     "text": [
      "The distribution of 3X1-2X2+X3 is N(13, 9)\n"
     ]
    }
   ],
   "source": [
    "import numpy as np\n",
    "alpha = np.array([3, -2, 1])\n",
    "\n",
    "mu_N = np.array([2, -3, 1])\n",
    "sigma_N = np.array([[1,1,1],[1,3,2],[1,2,2]])\n",
    "\n",
    "alpha_T_mu = np.dot(alpha.T,mu_N)\n",
    "alpha_T_sigma_alpha = np.dot(alpha.T,np.dot(sigma_N,alpha))\n",
    "\n",
    "print(\"The distribution of 3X1-2X2+X3 is N({}, {})\".format(alpha_T_mu,alpha_T_sigma_alpha))"
   ]
  },
  {
   "cell_type": "markdown",
   "metadata": {},
   "source": [
    "The distribution of $3X_1-2X_2+X_3$ ~ $N(13, 9)$."
   ]
  },
  {
   "cell_type": "markdown",
   "metadata": {},
   "source": [
    "### (b)\n",
    "I have to find a $2 \\times 1$ vector $a$, such that $X_2$ and $X_2- a^T\\begin{bmatrix}X_1\\\\X_3\\end{bmatrix}$ are independent.<br>\n",
    "\n",
    "Since $X_1, X_2 , X_3$ are all from Normal distribution, independece means $Cov(...)=0\\text{ and a = }\\begin{bmatrix}X_1\\\\X_3\\end{bmatrix}$\n",
    "\n",
    "$Cov(X_2, X_2 - a^T\\begin{bmatrix}X_1\\\\X_3\\end{bmatrix}) \n",
    "= Cov(X_2, X_2 - (a_1X_1 + a_3X_3)) \n",
    "= Cov((0,1,0)X\\text{ , }(-a_1, 1, -a_3)X)= (0,1,0)Cov(X)\\begin{bmatrix}-a_1\\\\1\\\\-a_3\\end{bmatrix}=(1,3,2)\\begin{bmatrix}-a_1\\\\1\\\\-a_3\\end{bmatrix}=-a_1 +3 -2a_3=0$\n",
    "\n",
    "We set the $a_1=a_3=1\\text{ , then we  get that }a = \\begin{bmatrix}1\\\\1\\end{bmatrix}$"
   ]
  },
  {
   "cell_type": "markdown",
   "metadata": {},
   "source": [
    "## exercise 4.13\n",
    "> Show the following if $X$ is $N_p(\\mu, \\Sigma)$ with $|\\Sigma| \\neq 0$\n",
    "> - (a) Check that $(x-\\mu)^T \\Sigma^{-1} (x-\\mu)=[x_1- \\mu _1 - \\Sigma_{12}]\\Sigma{22}^{-1} (x_2 - \\mu_2)]^T \\times ()$\n",
    ">  (Note that can be factored into the product of contributions from the marginal and conditional distributions.)\n",
    "> - (b) Check that (Thus, the joint density exponent can be written as the sum of two terms corresponding to contributions from the conditional and marginal distributions.)\n",
    "> - (c) Given the results in Parts a and b, identify the marginal distribution of and the conditional distribution of $X_1|X_2=x_2$"
   ]
  },
  {
   "cell_type": "markdown",
   "metadata": {},
   "source": [
    "### (a)\n",
    "With $X_2 =X_2$, we can get that $X_1|X_2=X_2 \\sim N_q(\\mu_{1.2},\\Sigma _{11.2})$ .<br>\n",
    "According to the definition of conditional distribution, we have the definition of $\\mu_{1.2}\\text{ and } \\Sigma _{11.2}\\text{ from the class slides.}$\n"
   ]
  },
  {
   "cell_type": "markdown",
   "metadata": {},
   "source": [
    "$\n",
    "f(X_1|X_2=X_2)=(2\\pi)^{-q/2}|\\Sigma_{11.2}|^{-1/2}exp(-(X_1-\\mu_{1.2})) \n",
    "$\n",
    "$\n",
    "f(x_1,x_2)=f(X)= (2\\pi)^{-p/2}|\\Sigma|^{-1/2}exp(......)\n",
    "=f(X_1| X_2=x_2)f(X_2=x_2)\n",
    "$<br>\n",
    "Because $X_2 \\sim N(\\mu_2, \\Sigma_{22})$,We are sure that there's a $\\Sigma_{22}$ in the $f_{X_2}(X_2).$\n",
    "So according to the equality , we only pay attention to the coefficienct.<br>\n",
    "\n",
    "Then we can say that the coefficients on two sides of the equation $$f(x_1,x_2) = f(X_1|X_2)f_{X_2}(X_2)$$ are the same, so we can get that:$$|\\Sigma| = |\\Sigma_{11.2}||\\Sigma_{22}|$$\n",
    "in which:\n",
    "$$\\Sigma_{11.2}= \\Sigma_{11}-\\Sigma_{12}\\Sigma_{22}^{-1}(X_2-\\mu_2)$$\n",
    "\n",
    "$$\\text{Q.E.D}$$"
   ]
  },
  {
   "cell_type": "markdown",
   "metadata": {},
   "source": [
    "### (b)\n",
    "\n",
    "It's not difficult to get that:<br>\n",
    "$(X-\\mu)^T\\Sigma^{-1}(X - \\mu) = (x-\\mu)^T\\Sigma_{p}^{i=1}\\frac{1}{\\lambda_i}(e_i^T(x-\\mu))^{2}$<br><br>\n",
    "$(X_1 -\\mu_1 - \\Sigma_{12}\\Sigma_{22}^{-1}(X_2-\\mu_2))^T(\\Sigma_{11}-\\Sigma_{12}\\Sigma_{22}^{-1}\\Sigma_{21})^{-1}(......)$<br>\n",
    "\n",
    "$=(......)^T(\\Sigma_{i=1}^{q}\\frac{1}{\\lambda _i} e_ie_i^T - \\Sigma_{12}(\\Sigma^{p}_{j=q+1}\\frac{1}{\\lambda_j}{e_j e_j^T})\\Sigma_{21})(......)$<br>\n",
    "\n",
    "$\n",
    "= \\Sigma^{q}_{i=1}\\frac{1}{\\lambda_i}( e_i^T(x_1-\\mu_1) )-\\Sigma^{p}_{j=q+1} \\frac{1}{\\lambda_j}(e_j^T (X_2 - \\mu_2))$<br>\n",
    "\n",
    "That's for the oryhology of $e_i(i=1...q)$ and $e_j(j=q+1...p)$, we can get that:<br>\n",
    "$$(X_2-\\mu_2)^T\\Sigma_{22}^{-1}(x_2-\\mu_2)=......$$\n",
    "$$Q.E.D$$"
   ]
  },
  {
   "cell_type": "markdown",
   "metadata": {},
   "source": [
    "### (c)\n",
    "$X_2 \\sim N_{p-q}(\\mu_2, \\Sigma_{22})$<br>\n",
    "$X_1|X_2=X_2 \\sim N_q(\\mu_1 +\\Sigma_{12}\\Sigma_{22}^{-1}(X_2-\\mu_2), \\Sigma_{11}- \\Sigma_{12}\\Sigma_{22}^{-1} \\Sigma_{21})$ "
   ]
  },
  {
   "cell_type": "markdown",
   "metadata": {},
   "source": [
    "## exercise 4.19\n",
    "> Let be a random sample of size from an population. \n",
    "> Specify each of the following completely"
   ]
  },
  {
   "cell_type": "markdown",
   "metadata": {},
   "source": [
    "### (a)\n",
    "Distribution of $(X_1-\\mu)^T \\Sigma^{-1} (X_1-\\mu)$ is chi-square distribution with degree of freedom $p=6$.\n",
    "\n",
    "$(X_1-\\mu)^T \\Sigma^{-1} (X_1-\\mu) \\sim X_6^2$"
   ]
  },
  {
   "cell_type": "markdown",
   "metadata": {},
   "source": [
    "### (b)\n",
    "\n",
    "$$ \\bar{X} \\sim N_6(\\mu,\\frac{1}{20}\\Sigma)$$\n",
    "$$\\sqrt{n}(\\bar{X}-\\mu) \\sim N_6(0, \\Sigma)$$"
   ]
  },
  {
   "cell_type": "markdown",
   "metadata": {},
   "source": [
    "### (c)\n",
    "$$(n-1)S \\sim Wishart(19, \\Sigma)$$"
   ]
  },
  {
   "cell_type": "markdown",
   "metadata": {},
   "source": [
    "## exercise 4.24\n",
    "> Exercise 1.4 contains data on three variables for the world’s 10 largest companies as of April 2005. For the sales and profits data:\n",
    "> - (a) Construct Q–Q plots. Do these data appear to be normally distributed? Explain.\n",
    "> - (b) Carry out a test of normality based on the correlation coefficient [See (4–31)].Set the significance level at 0.01 the results of these tests corroborate the results in Part a?"
   ]
  },
  {
   "cell_type": "code",
   "execution_count": 104,
   "metadata": {},
   "outputs": [
    {
     "data": {
      "image/png": "[encoded data removed]",
      "text/plain": [
       "<Figure size 640x480 with 1 Axes>"
      ]
     },
     "metadata": {},
     "output_type": "display_data"
    }
   ],
   "source": [
    "import numpy as np\n",
    "import pandas as pd\n",
    "import matplotlib.pyplot as plt\n",
    "from scipy.stats import probplot\n",
    "\n",
    "# 读取数据\n",
    "company_data = pd.DataFrame(\n",
    "  {'x1' : [108.28, 152.36, 95.04, 65.45, 62.97, 263.99, 265.19, 285.06, 92.01, 165.68],\n",
    "  'x2' : [17.05, 16.59, 10.91, 14.14, 9.52, 25.33, 18.54, 15.73, 8.10, 11.13]}\n",
    ")\n",
    "\n",
    "# 绘制Q-Q图\n",
    "plt.style.use('ggplot')\n",
    "probplot(company_data['x1'], dist=\"norm\", plot=plt)\n",
    "plt.title('Q-Q plot of x1')\n",
    "plt.show()\n"
   ]
  },
  {
   "cell_type": "code",
   "execution_count": 105,
   "metadata": {},
   "outputs": [
    {
     "data": {
      "image/png": "[encoded data removed]",
      "text/plain": [
       "<Figure size 640x480 with 1 Axes>"
      ]
     },
     "metadata": {},
     "output_type": "display_data"
    }
   ],
   "source": [
    "plt.style.use('ggplot')\n",
    "probplot(company_data['x2'], dist=\"norm\", plot=plt)\n",
    "plt.title('Q-Q plot of x2')\n",
    "plt.show()"
   ]
  },
  {
   "cell_type": "markdown",
   "metadata": {},
   "source": [
    "Accordingly, we can get that the data is not normally distributed.<br>\n",
    "That's because the *linearity* in the Q-Q plots emphasizes the normality well."
   ]
  },
  {
   "cell_type": "markdown",
   "metadata": {},
   "source": [
    "### (b)\n",
    "The straightness of the Q–Q plot can be measured by calculating the correlation coefficient of the points in the plot.The correlation coefficient for the Q–Q plot is defined by $r_Q$"
   ]
  },
  {
   "cell_type": "markdown",
   "metadata": {},
   "source": [
    "#### X1"
   ]
  },
  {
   "cell_type": "code",
   "execution_count": 106,
   "metadata": {},
   "outputs": [],
   "source": [
    "x1 = company_data['x1']\n",
    "\n",
    "from scipy import stats\n",
    "x1_ordered = np.sort(x1)\n",
    "x1_q = stats.norm.ppf((np.arange(1, len(x1) + 1) - 0.5 )/ len(x1))\n",
    "\n",
    "rQ_x1 = np.corrcoef(x1_ordered, x1_q)[1,0]"
   ]
  },
  {
   "cell_type": "code",
   "execution_count": 107,
   "metadata": {},
   "outputs": [
    {
     "data": {
      "text/plain": [
       "(0.9371850260956385, 10)"
      ]
     },
     "execution_count": 107,
     "metadata": {},
     "output_type": "execute_result"
    }
   ],
   "source": [
    "rQ_x1, len(x1)"
   ]
  },
  {
   "cell_type": "markdown",
   "metadata": {},
   "source": [
    "We have the following test:\n",
    "$$H_0:\\text{ It's from normal distribution vs. }H_1:\\text{ It's not}$$\n",
    "\n",
    "At the level n = 10, $$r_Q = 0.9372,$$ then we believe $$\\alpha=0.01$$.<br>\n",
    "In this case, the appropriate value is 0.8801.\n",
    "$$r_Q > 0.8801$$\n",
    "Now we fail to reject it.\n",
    "So it satisfies the normality."
   ]
  },
  {
   "cell_type": "markdown",
   "metadata": {},
   "source": [
    "#### X2"
   ]
  },
  {
   "cell_type": "code",
   "execution_count": 108,
   "metadata": {},
   "outputs": [],
   "source": [
    "x2 = company_data['x2']\n",
    "\n",
    "x2_ordered = np.sort(x2)\n",
    "\n",
    "x2_q = stats.norm.ppf( (np.arange(1, 11)- 0.5)/10 )\n",
    "\n",
    "rQ_x2 = np.corrcoef(x2_ordered, x2_q)[1,0]"
   ]
  },
  {
   "cell_type": "code",
   "execution_count": 109,
   "metadata": {},
   "outputs": [
    {
     "data": {
      "text/plain": [
       "0.969164496800138"
      ]
     },
     "execution_count": 109,
     "metadata": {},
     "output_type": "execute_result"
    }
   ],
   "source": [
    "rQ_x2"
   ]
  },
  {
   "cell_type": "markdown",
   "metadata": {},
   "source": [
    "$$H_0: \\text{it's from normal distribution vs. }H_1: \\text{it's not}$$\n",
    "\n",
    "At the level n = 10, $$r_Q = 0.9372,$$ then we believe $$\\alpha=0.01$$.<br>\n",
    "In this case, the appropriate value is 0.8801.\n",
    "$$r_Q > 0.8801$$\n",
    "\n",
    "Failing to reject the hypothesis, we believe x2 satisties Normality."
   ]
  },
  {
   "cell_type": "markdown",
   "metadata": {},
   "source": [
    "## exercise 4.29\n",
    "\n",
    "> Given the air-pollution data in Table 1.5, examine the pairs $X_5$ and $X_6$ for bivariate normality.\n",
    "> - (a) Calculate statistical distances $$(x_j - \\bar{x})^TS^{-1}(x_j - \\bar{x}), j=1,2,...,42$$, where $x_j^T=[x_{j5},x_{j6}]$.\n",
    "> - (b) Determine the proportion of observations $$x_j^T = [x_{j5},x_{j6}] ,j = 1,2,...42$$ , falling within the approximate 50% probability contour of a bivariate normal distribution.\n",
    "> - (c) Construct a chi-square plot of the ordered distances in Part a."
   ]
  },
  {
   "cell_type": "code",
   "execution_count": 110,
   "metadata": {},
   "outputs": [],
   "source": [
    "import numpy as np\n",
    "import pandas as pd\n",
    "from scipy import stats\n",
    "\n",
    "path = 'D:\\A-多元统计分析\\Wichern_data\\Wichern_data\\T1-5.dat'\n",
    "df = pd.read_csv(path, sep='\\s+', header=None)\n"
   ]
  },
  {
   "cell_type": "code",
   "execution_count": 111,
   "metadata": {},
   "outputs": [
    {
     "data": {
      "text/html": [
       "<div>\n",
       "<style scoped>\n",
       "    .dataframe tbody tr th:only-of-type {\n",
       "        vertical-align: middle;\n",
       "    }\n",
       "\n",
       "    .dataframe tbody tr th {\n",
       "        vertical-align: top;\n",
       "    }\n",
       "\n",
       "    .dataframe thead th {\n",
       "        text-align: right;\n",
       "    }\n",
       "</style>\n",
       "<table border=\"1\" class=\"dataframe\">\n",
       "  <thead>\n",
       "    <tr style=\"text-align: right;\">\n",
       "      <th></th>\n",
       "      <th>0</th>\n",
       "      <th>1</th>\n",
       "      <th>2</th>\n",
       "      <th>3</th>\n",
       "      <th>4</th>\n",
       "      <th>5</th>\n",
       "      <th>6</th>\n",
       "    </tr>\n",
       "  </thead>\n",
       "  <tbody>\n",
       "    <tr>\n",
       "      <th>0</th>\n",
       "      <td>8</td>\n",
       "      <td>98</td>\n",
       "      <td>7</td>\n",
       "      <td>2</td>\n",
       "      <td>12</td>\n",
       "      <td>8</td>\n",
       "      <td>2</td>\n",
       "    </tr>\n",
       "    <tr>\n",
       "      <th>1</th>\n",
       "      <td>7</td>\n",
       "      <td>107</td>\n",
       "      <td>4</td>\n",
       "      <td>3</td>\n",
       "      <td>9</td>\n",
       "      <td>5</td>\n",
       "      <td>3</td>\n",
       "    </tr>\n",
       "    <tr>\n",
       "      <th>2</th>\n",
       "      <td>7</td>\n",
       "      <td>103</td>\n",
       "      <td>4</td>\n",
       "      <td>3</td>\n",
       "      <td>5</td>\n",
       "      <td>6</td>\n",
       "      <td>3</td>\n",
       "    </tr>\n",
       "    <tr>\n",
       "      <th>3</th>\n",
       "      <td>10</td>\n",
       "      <td>88</td>\n",
       "      <td>5</td>\n",
       "      <td>2</td>\n",
       "      <td>8</td>\n",
       "      <td>15</td>\n",
       "      <td>4</td>\n",
       "    </tr>\n",
       "    <tr>\n",
       "      <th>4</th>\n",
       "      <td>6</td>\n",
       "      <td>91</td>\n",
       "      <td>4</td>\n",
       "      <td>2</td>\n",
       "      <td>8</td>\n",
       "      <td>10</td>\n",
       "      <td>3</td>\n",
       "    </tr>\n",
       "    <tr>\n",
       "      <th>5</th>\n",
       "      <td>8</td>\n",
       "      <td>90</td>\n",
       "      <td>5</td>\n",
       "      <td>2</td>\n",
       "      <td>12</td>\n",
       "      <td>12</td>\n",
       "      <td>4</td>\n",
       "    </tr>\n",
       "    <tr>\n",
       "      <th>6</th>\n",
       "      <td>9</td>\n",
       "      <td>84</td>\n",
       "      <td>7</td>\n",
       "      <td>4</td>\n",
       "      <td>12</td>\n",
       "      <td>15</td>\n",
       "      <td>5</td>\n",
       "    </tr>\n",
       "    <tr>\n",
       "      <th>7</th>\n",
       "      <td>5</td>\n",
       "      <td>72</td>\n",
       "      <td>6</td>\n",
       "      <td>4</td>\n",
       "      <td>21</td>\n",
       "      <td>14</td>\n",
       "      <td>4</td>\n",
       "    </tr>\n",
       "    <tr>\n",
       "      <th>8</th>\n",
       "      <td>7</td>\n",
       "      <td>82</td>\n",
       "      <td>5</td>\n",
       "      <td>1</td>\n",
       "      <td>11</td>\n",
       "      <td>11</td>\n",
       "      <td>3</td>\n",
       "    </tr>\n",
       "    <tr>\n",
       "      <th>9</th>\n",
       "      <td>8</td>\n",
       "      <td>64</td>\n",
       "      <td>5</td>\n",
       "      <td>2</td>\n",
       "      <td>13</td>\n",
       "      <td>9</td>\n",
       "      <td>4</td>\n",
       "    </tr>\n",
       "    <tr>\n",
       "      <th>10</th>\n",
       "      <td>6</td>\n",
       "      <td>71</td>\n",
       "      <td>5</td>\n",
       "      <td>4</td>\n",
       "      <td>10</td>\n",
       "      <td>3</td>\n",
       "      <td>3</td>\n",
       "    </tr>\n",
       "    <tr>\n",
       "      <th>11</th>\n",
       "      <td>6</td>\n",
       "      <td>91</td>\n",
       "      <td>4</td>\n",
       "      <td>2</td>\n",
       "      <td>12</td>\n",
       "      <td>7</td>\n",
       "      <td>3</td>\n",
       "    </tr>\n",
       "    <tr>\n",
       "      <th>12</th>\n",
       "      <td>7</td>\n",
       "      <td>72</td>\n",
       "      <td>7</td>\n",
       "      <td>4</td>\n",
       "      <td>18</td>\n",
       "      <td>10</td>\n",
       "      <td>3</td>\n",
       "    </tr>\n",
       "    <tr>\n",
       "      <th>13</th>\n",
       "      <td>10</td>\n",
       "      <td>70</td>\n",
       "      <td>4</td>\n",
       "      <td>2</td>\n",
       "      <td>11</td>\n",
       "      <td>7</td>\n",
       "      <td>3</td>\n",
       "    </tr>\n",
       "    <tr>\n",
       "      <th>14</th>\n",
       "      <td>10</td>\n",
       "      <td>72</td>\n",
       "      <td>4</td>\n",
       "      <td>1</td>\n",
       "      <td>8</td>\n",
       "      <td>10</td>\n",
       "      <td>3</td>\n",
       "    </tr>\n",
       "    <tr>\n",
       "      <th>15</th>\n",
       "      <td>9</td>\n",
       "      <td>77</td>\n",
       "      <td>4</td>\n",
       "      <td>1</td>\n",
       "      <td>9</td>\n",
       "      <td>10</td>\n",
       "      <td>3</td>\n",
       "    </tr>\n",
       "    <tr>\n",
       "      <th>16</th>\n",
       "      <td>8</td>\n",
       "      <td>76</td>\n",
       "      <td>4</td>\n",
       "      <td>1</td>\n",
       "      <td>7</td>\n",
       "      <td>7</td>\n",
       "      <td>3</td>\n",
       "    </tr>\n",
       "    <tr>\n",
       "      <th>17</th>\n",
       "      <td>8</td>\n",
       "      <td>71</td>\n",
       "      <td>5</td>\n",
       "      <td>3</td>\n",
       "      <td>16</td>\n",
       "      <td>4</td>\n",
       "      <td>4</td>\n",
       "    </tr>\n",
       "    <tr>\n",
       "      <th>18</th>\n",
       "      <td>9</td>\n",
       "      <td>67</td>\n",
       "      <td>4</td>\n",
       "      <td>2</td>\n",
       "      <td>13</td>\n",
       "      <td>2</td>\n",
       "      <td>3</td>\n",
       "    </tr>\n",
       "    <tr>\n",
       "      <th>19</th>\n",
       "      <td>9</td>\n",
       "      <td>69</td>\n",
       "      <td>3</td>\n",
       "      <td>3</td>\n",
       "      <td>9</td>\n",
       "      <td>5</td>\n",
       "      <td>3</td>\n",
       "    </tr>\n",
       "    <tr>\n",
       "      <th>20</th>\n",
       "      <td>10</td>\n",
       "      <td>62</td>\n",
       "      <td>5</td>\n",
       "      <td>3</td>\n",
       "      <td>14</td>\n",
       "      <td>4</td>\n",
       "      <td>4</td>\n",
       "    </tr>\n",
       "    <tr>\n",
       "      <th>21</th>\n",
       "      <td>9</td>\n",
       "      <td>88</td>\n",
       "      <td>4</td>\n",
       "      <td>2</td>\n",
       "      <td>7</td>\n",
       "      <td>6</td>\n",
       "      <td>3</td>\n",
       "    </tr>\n",
       "    <tr>\n",
       "      <th>22</th>\n",
       "      <td>8</td>\n",
       "      <td>80</td>\n",
       "      <td>4</td>\n",
       "      <td>2</td>\n",
       "      <td>13</td>\n",
       "      <td>11</td>\n",
       "      <td>4</td>\n",
       "    </tr>\n",
       "    <tr>\n",
       "      <th>23</th>\n",
       "      <td>5</td>\n",
       "      <td>30</td>\n",
       "      <td>3</td>\n",
       "      <td>3</td>\n",
       "      <td>5</td>\n",
       "      <td>2</td>\n",
       "      <td>3</td>\n",
       "    </tr>\n",
       "    <tr>\n",
       "      <th>24</th>\n",
       "      <td>6</td>\n",
       "      <td>83</td>\n",
       "      <td>5</td>\n",
       "      <td>1</td>\n",
       "      <td>10</td>\n",
       "      <td>23</td>\n",
       "      <td>4</td>\n",
       "    </tr>\n",
       "    <tr>\n",
       "      <th>25</th>\n",
       "      <td>8</td>\n",
       "      <td>84</td>\n",
       "      <td>3</td>\n",
       "      <td>2</td>\n",
       "      <td>7</td>\n",
       "      <td>6</td>\n",
       "      <td>3</td>\n",
       "    </tr>\n",
       "    <tr>\n",
       "      <th>26</th>\n",
       "      <td>6</td>\n",
       "      <td>78</td>\n",
       "      <td>4</td>\n",
       "      <td>2</td>\n",
       "      <td>11</td>\n",
       "      <td>11</td>\n",
       "      <td>3</td>\n",
       "    </tr>\n",
       "    <tr>\n",
       "      <th>27</th>\n",
       "      <td>8</td>\n",
       "      <td>79</td>\n",
       "      <td>2</td>\n",
       "      <td>1</td>\n",
       "      <td>7</td>\n",
       "      <td>10</td>\n",
       "      <td>3</td>\n",
       "    </tr>\n",
       "    <tr>\n",
       "      <th>28</th>\n",
       "      <td>6</td>\n",
       "      <td>62</td>\n",
       "      <td>4</td>\n",
       "      <td>3</td>\n",
       "      <td>9</td>\n",
       "      <td>8</td>\n",
       "      <td>3</td>\n",
       "    </tr>\n",
       "    <tr>\n",
       "      <th>29</th>\n",
       "      <td>10</td>\n",
       "      <td>37</td>\n",
       "      <td>3</td>\n",
       "      <td>1</td>\n",
       "      <td>7</td>\n",
       "      <td>2</td>\n",
       "      <td>3</td>\n",
       "    </tr>\n",
       "    <tr>\n",
       "      <th>30</th>\n",
       "      <td>8</td>\n",
       "      <td>71</td>\n",
       "      <td>4</td>\n",
       "      <td>1</td>\n",
       "      <td>10</td>\n",
       "      <td>7</td>\n",
       "      <td>3</td>\n",
       "    </tr>\n",
       "    <tr>\n",
       "      <th>31</th>\n",
       "      <td>7</td>\n",
       "      <td>52</td>\n",
       "      <td>4</td>\n",
       "      <td>1</td>\n",
       "      <td>12</td>\n",
       "      <td>8</td>\n",
       "      <td>4</td>\n",
       "    </tr>\n",
       "    <tr>\n",
       "      <th>32</th>\n",
       "      <td>5</td>\n",
       "      <td>48</td>\n",
       "      <td>6</td>\n",
       "      <td>5</td>\n",
       "      <td>8</td>\n",
       "      <td>4</td>\n",
       "      <td>3</td>\n",
       "    </tr>\n",
       "    <tr>\n",
       "      <th>33</th>\n",
       "      <td>6</td>\n",
       "      <td>75</td>\n",
       "      <td>4</td>\n",
       "      <td>1</td>\n",
       "      <td>10</td>\n",
       "      <td>24</td>\n",
       "      <td>3</td>\n",
       "    </tr>\n",
       "    <tr>\n",
       "      <th>34</th>\n",
       "      <td>10</td>\n",
       "      <td>35</td>\n",
       "      <td>4</td>\n",
       "      <td>1</td>\n",
       "      <td>6</td>\n",
       "      <td>9</td>\n",
       "      <td>2</td>\n",
       "    </tr>\n",
       "    <tr>\n",
       "      <th>35</th>\n",
       "      <td>8</td>\n",
       "      <td>85</td>\n",
       "      <td>4</td>\n",
       "      <td>1</td>\n",
       "      <td>9</td>\n",
       "      <td>10</td>\n",
       "      <td>2</td>\n",
       "    </tr>\n",
       "    <tr>\n",
       "      <th>36</th>\n",
       "      <td>5</td>\n",
       "      <td>86</td>\n",
       "      <td>3</td>\n",
       "      <td>1</td>\n",
       "      <td>6</td>\n",
       "      <td>12</td>\n",
       "      <td>2</td>\n",
       "    </tr>\n",
       "    <tr>\n",
       "      <th>37</th>\n",
       "      <td>5</td>\n",
       "      <td>86</td>\n",
       "      <td>7</td>\n",
       "      <td>2</td>\n",
       "      <td>13</td>\n",
       "      <td>18</td>\n",
       "      <td>2</td>\n",
       "    </tr>\n",
       "    <tr>\n",
       "      <th>38</th>\n",
       "      <td>7</td>\n",
       "      <td>79</td>\n",
       "      <td>7</td>\n",
       "      <td>4</td>\n",
       "      <td>9</td>\n",
       "      <td>25</td>\n",
       "      <td>3</td>\n",
       "    </tr>\n",
       "    <tr>\n",
       "      <th>39</th>\n",
       "      <td>7</td>\n",
       "      <td>79</td>\n",
       "      <td>5</td>\n",
       "      <td>2</td>\n",
       "      <td>8</td>\n",
       "      <td>6</td>\n",
       "      <td>2</td>\n",
       "    </tr>\n",
       "    <tr>\n",
       "      <th>40</th>\n",
       "      <td>6</td>\n",
       "      <td>68</td>\n",
       "      <td>6</td>\n",
       "      <td>2</td>\n",
       "      <td>11</td>\n",
       "      <td>14</td>\n",
       "      <td>3</td>\n",
       "    </tr>\n",
       "    <tr>\n",
       "      <th>41</th>\n",
       "      <td>8</td>\n",
       "      <td>40</td>\n",
       "      <td>4</td>\n",
       "      <td>3</td>\n",
       "      <td>6</td>\n",
       "      <td>5</td>\n",
       "      <td>2</td>\n",
       "    </tr>\n",
       "  </tbody>\n",
       "</table>\n",
       "</div>"
      ],
      "text/plain": [
       "     0    1  2  3   4   5  6\n",
       "0    8   98  7  2  12   8  2\n",
       "1    7  107  4  3   9   5  3\n",
       "2    7  103  4  3   5   6  3\n",
       "3   10   88  5  2   8  15  4\n",
       "4    6   91  4  2   8  10  3\n",
       "5    8   90  5  2  12  12  4\n",
       "6    9   84  7  4  12  15  5\n",
       "7    5   72  6  4  21  14  4\n",
       "8    7   82  5  1  11  11  3\n",
       "9    8   64  5  2  13   9  4\n",
       "10   6   71  5  4  10   3  3\n",
       "11   6   91  4  2  12   7  3\n",
       "12   7   72  7  4  18  10  3\n",
       "13  10   70  4  2  11   7  3\n",
       "14  10   72  4  1   8  10  3\n",
       "15   9   77  4  1   9  10  3\n",
       "16   8   76  4  1   7   7  3\n",
       "17   8   71  5  3  16   4  4\n",
       "18   9   67  4  2  13   2  3\n",
       "19   9   69  3  3   9   5  3\n",
       "20  10   62  5  3  14   4  4\n",
       "21   9   88  4  2   7   6  3\n",
       "22   8   80  4  2  13  11  4\n",
       "23   5   30  3  3   5   2  3\n",
       "24   6   83  5  1  10  23  4\n",
       "25   8   84  3  2   7   6  3\n",
       "26   6   78  4  2  11  11  3\n",
       "27   8   79  2  1   7  10  3\n",
       "28   6   62  4  3   9   8  3\n",
       "29  10   37  3  1   7   2  3\n",
       "30   8   71  4  1  10   7  3\n",
       "31   7   52  4  1  12   8  4\n",
       "32   5   48  6  5   8   4  3\n",
       "33   6   75  4  1  10  24  3\n",
       "34  10   35  4  1   6   9  2\n",
       "35   8   85  4  1   9  10  2\n",
       "36   5   86  3  1   6  12  2\n",
       "37   5   86  7  2  13  18  2\n",
       "38   7   79  7  4   9  25  3\n",
       "39   7   79  5  2   8   6  2\n",
       "40   6   68  6  2  11  14  3\n",
       "41   8   40  4  3   6   5  2"
      ]
     },
     "execution_count": 111,
     "metadata": {},
     "output_type": "execute_result"
    }
   ],
   "source": [
    "df"
   ]
  },
  {
   "cell_type": "code",
   "execution_count": 112,
   "metadata": {},
   "outputs": [],
   "source": [
    "x1 = np.array(df[4])\n",
    "x2 = np.array(df[5])"
   ]
  },
  {
   "cell_type": "code",
   "execution_count": 113,
   "metadata": {},
   "outputs": [],
   "source": [
    "X = np.vstack((x1, x2)).T"
   ]
  },
  {
   "cell_type": "markdown",
   "metadata": {},
   "source": [
    "### (a)\n",
    "\n",
    "Attention, for j = 1, 2, 3, ..., 42, we have $x_j^T=[x_{j5},x_{j6}]$.\n",
    "\n",
    "~~~\n",
    "S表示两个向量的协方差矩阵，题目中要求解出42个distance\n",
    "~~~"
   ]
  },
  {
   "cell_type": "code",
   "execution_count": 114,
   "metadata": {},
   "outputs": [],
   "source": [
    "x1_de_mean = x1 - x1.mean()\n",
    "x2_de_mean = x2 - x2.mean()\n",
    "\n",
    "X_de_mean = np.vstack((x1_de_mean, x2_de_mean)).T"
   ]
  },
  {
   "cell_type": "code",
   "execution_count": 115,
   "metadata": {},
   "outputs": [
    {
     "data": {
      "text/plain": [
       "array([[ 1.95238095, -1.4047619 ],\n",
       "       [-1.04761905, -4.4047619 ],\n",
       "       [-5.04761905, -3.4047619 ],\n",
       "       [-2.04761905,  5.5952381 ],\n",
       "       [-2.04761905,  0.5952381 ],\n",
       "       [ 1.95238095,  2.5952381 ],\n",
       "       [ 1.95238095,  5.5952381 ],\n",
       "       [10.95238095,  4.5952381 ],\n",
       "       [ 0.95238095,  1.5952381 ],\n",
       "       [ 2.95238095, -0.4047619 ],\n",
       "       [-0.04761905, -6.4047619 ],\n",
       "       [ 1.95238095, -2.4047619 ],\n",
       "       [ 7.95238095,  0.5952381 ],\n",
       "       [ 0.95238095, -2.4047619 ],\n",
       "       [-2.04761905,  0.5952381 ],\n",
       "       [-1.04761905,  0.5952381 ],\n",
       "       [-3.04761905, -2.4047619 ],\n",
       "       [ 5.95238095, -5.4047619 ],\n",
       "       [ 2.95238095, -7.4047619 ],\n",
       "       [-1.04761905, -4.4047619 ],\n",
       "       [ 3.95238095, -5.4047619 ],\n",
       "       [-3.04761905, -3.4047619 ],\n",
       "       [ 2.95238095,  1.5952381 ],\n",
       "       [-5.04761905, -7.4047619 ],\n",
       "       [-0.04761905, 13.5952381 ],\n",
       "       [-3.04761905, -3.4047619 ],\n",
       "       [ 0.95238095,  1.5952381 ],\n",
       "       [-3.04761905,  0.5952381 ],\n",
       "       [-1.04761905, -1.4047619 ],\n",
       "       [-3.04761905, -7.4047619 ],\n",
       "       [-0.04761905, -2.4047619 ],\n",
       "       [ 1.95238095, -1.4047619 ],\n",
       "       [-2.04761905, -5.4047619 ],\n",
       "       [-0.04761905, 14.5952381 ],\n",
       "       [-4.04761905, -0.4047619 ],\n",
       "       [-1.04761905,  0.5952381 ],\n",
       "       [-4.04761905,  2.5952381 ],\n",
       "       [ 2.95238095,  8.5952381 ],\n",
       "       [-1.04761905, 15.5952381 ],\n",
       "       [-2.04761905, -3.4047619 ],\n",
       "       [ 0.95238095,  4.5952381 ],\n",
       "       [-4.04761905, -4.4047619 ]])"
      ]
     },
     "execution_count": 115,
     "metadata": {},
     "output_type": "execute_result"
    }
   ],
   "source": [
    "X_de_mean"
   ]
  },
  {
   "cell_type": "code",
   "execution_count": 116,
   "metadata": {},
   "outputs": [],
   "source": [
    "S = np.cov(x1, x2)"
   ]
  },
  {
   "cell_type": "code",
   "execution_count": 117,
   "metadata": {},
   "outputs": [
    {
     "data": {
      "text/plain": [
       "array([[11.36353078,  3.12659698],\n",
       "       [ 3.12659698, 30.97851336]])"
      ]
     },
     "execution_count": 117,
     "metadata": {},
     "output_type": "execute_result"
    }
   ],
   "source": [
    "S"
   ]
  },
  {
   "cell_type": "code",
   "execution_count": 118,
   "metadata": {},
   "outputs": [
    {
     "name": "stdout",
     "output_type": "stream",
     "text": [
      "j= 1 0.460652355265481\n",
      "j= 2 0.6592206345785215\n",
      "j= 3 2.3770609882489637\n",
      "j= 4 1.6282902383679043\n",
      "j= 5 0.4135363565646297\n",
      "j= 6 0.47607263026524094\n",
      "j= 7 1.184889461196109\n",
      "j= 8 10.639179177028803\n",
      "j= 9 0.13883386298670963\n",
      "j= 10 0.8162468152098796\n",
      "j= 11 1.3566300591687885\n",
      "j= 12 0.6228095781062668\n",
      "j= 13 5.649439150827316\n",
      "j= 14 0.3159498385121218\n",
      "j= 15 0.4135363565646297\n",
      "j= 16 0.12249733044955188\n",
      "j= 17 0.8987982257829784\n",
      "j= 18 4.76468729853035\n",
      "j= 19 3.0089121860384256\n",
      "j= 20 0.6592206345785215\n",
      "j= 21 2.774141553358871\n",
      "j= 22 1.036006095235068\n",
      "j= 23 0.7874152446997651\n",
      "j= 24 3.443774800380247\n",
      "j= 25 6.1488605925448985\n",
      "j= 26 1.036006095235068\n",
      "j= 27 0.13883386298670963\n",
      "j= 28 0.8856041172444512\n",
      "j= 29 0.13797190219226882\n",
      "j= 30 2.2488867394063297\n",
      "j= 31 0.19011883348272043\n",
      "j= 32 0.460652355265481\n",
      "j= 33 1.1471939473982804\n",
      "j= 34 7.085723743894751\n",
      "j= 35 1.458422878027238\n",
      "j= 36 0.12249733044955188\n",
      "j= 37 1.8984708313214445\n",
      "j= 38 2.778259621957509\n",
      "j= 39 8.473064913506189\n",
      "j= 40 0.6370217505752357\n",
      "j= 41 0.7032485060236987\n",
      "j= 42 1.8013611065430268\n"
     ]
    }
   ],
   "source": [
    "ans_list = []\n",
    "for i in range(42):\n",
    "    print(\"j=\", i+1, X_de_mean[i].T @ np.linalg.inv(S) @ (X_de_mean)[i])\n",
    "    ans_list.append(X_de_mean[i].T @ np.linalg.inv(S) @ (X_de_mean)[i])"
   ]
  },
  {
   "cell_type": "markdown",
   "metadata": {},
   "source": [
    "### (b)\n",
    "~~~\n",
    "旨在计算落在正态分布的50%概率区域内的数据点数量。要求你计算在42个观察值中，有多少个观察值位于二元正态分布的50%概率轮廓内，然后将这个数量除以42得到比例。\n",
    "~~~"
   ]
  },
  {
   "cell_type": "code",
   "execution_count": 119,
   "metadata": {},
   "outputs": [
    {
     "data": {
      "text/plain": [
       "1.386294361119891"
      ]
     },
     "execution_count": 119,
     "metadata": {},
     "output_type": "execute_result"
    }
   ],
   "source": [
    "stats.chi2.ppf(0.5, 2)"
   ]
  },
  {
   "cell_type": "markdown",
   "metadata": {},
   "source": [
    "> The number of observations whose generalized distances are less than $X^2_2(0.5)$ = 1.3863 is XXX. So the proportion is XXX/42= xxx"
   ]
  },
  {
   "cell_type": "code",
   "execution_count": 120,
   "metadata": {},
   "outputs": [
    {
     "data": {
      "text/plain": [
       "26"
      ]
     },
     "execution_count": 120,
     "metadata": {},
     "output_type": "execute_result"
    }
   ],
   "source": [
    "(ans_list <= stats.chi2.ppf(0.5, 2) ).sum()"
   ]
  },
  {
   "cell_type": "code",
   "execution_count": 121,
   "metadata": {},
   "outputs": [
    {
     "data": {
      "text/plain": [
       "0.6190476190476191"
      ]
     },
     "execution_count": 121,
     "metadata": {},
     "output_type": "execute_result"
    }
   ],
   "source": [
    "26/42"
   ]
  },
  {
   "cell_type": "markdown",
   "metadata": {},
   "source": [
    "The proportion is 26/42 = 0.62"
   ]
  },
  {
   "cell_type": "markdown",
   "metadata": {},
   "source": [
    "### (c)\n",
    "~~~\n",
    "Python直接手撕吧\n",
    "~~~"
   ]
  },
  {
   "cell_type": "code",
   "execution_count": 122,
   "metadata": {},
   "outputs": [
    {
     "data": {
      "image/png": "[encoded data removed]",
      "text/plain": [
       "<Figure size 640x480 with 1 Axes>"
      ]
     },
     "metadata": {},
     "output_type": "display_data"
    }
   ],
   "source": [
    "ordered = np.sort(ans_list)\n",
    "q = stats.chi2.ppf( ( np.arange(42) + 0.5 )/42 , 2)\n",
    "\n",
    "import matplotlib.pyplot as plt\n",
    "plt.scatter(q, ordered)\n",
    "plt.ylabel('Squared Mahalanobis Distance')\n",
    "plt.xlabel('Chi Square Quantile')\n",
    "plt.show()"
   ]
  },
  {
   "cell_type": "markdown",
   "metadata": {},
   "source": [
    "## exercise 4.39"
   ]
  },
  {
   "cell_type": "markdown",
   "metadata": {},
   "source": [
    "> The data in **Table 4.6** (see the psychological profile data: www.prenhall.com/statistics) consist of 130 observations generated by scores on a psychological test administered to Peruvian teenagers (ages 15, 16, and 17). For each of these teenagers the gender (male= 1, female= 2) and socioeconomic status (low= 1, medium= 2) were also recorded. The scores were accumulated into five subscale scores labeled independence (indep), support (supp), benevolence (benev), conformity (conform), and leadership (leader)\n",
    ">\n",
    "> - (a) Examine each of the variables independence, support, benevolence, conformity and\n",
    "leadership for marginal normality.\n",
    "> - (b) Using all five variables, check for multivariate normality.\n",
    "> - (c) Refer to part (a). For those variables that are nonnormal, determine the transformation\n",
    "that makes them more nearly normal"
   ]
  },
  {
   "cell_type": "code",
   "execution_count": 123,
   "metadata": {},
   "outputs": [],
   "source": [
    "import numpy as np\n",
    "import pandas as pd\n",
    "from scipy import stats\n",
    "\n",
    "path = 'D:\\A-多元统计分析\\Wichern_data\\Wichern_data\\T4-6.DAT'\n",
    "\n",
    "data = pd.read_csv(path, sep= '\\s+', header= None)\n",
    "data.columns= ['Indep', 'Supp', 'Benev', 'Conform', 'Leader', 'Gender', 'Socio']"
   ]
  },
  {
   "cell_type": "code",
   "execution_count": 124,
   "metadata": {},
   "outputs": [
    {
     "data": {
      "text/html": [
       "<div>\n",
       "<style scoped>\n",
       "    .dataframe tbody tr th:only-of-type {\n",
       "        vertical-align: middle;\n",
       "    }\n",
       "\n",
       "    .dataframe tbody tr th {\n",
       "        vertical-align: top;\n",
       "    }\n",
       "\n",
       "    .dataframe thead th {\n",
       "        text-align: right;\n",
       "    }\n",
       "</style>\n",
       "<table border=\"1\" class=\"dataframe\">\n",
       "  <thead>\n",
       "    <tr style=\"text-align: right;\">\n",
       "      <th></th>\n",
       "      <th>Indep</th>\n",
       "      <th>Supp</th>\n",
       "      <th>Benev</th>\n",
       "      <th>Conform</th>\n",
       "      <th>Leader</th>\n",
       "      <th>Gender</th>\n",
       "      <th>Socio</th>\n",
       "    </tr>\n",
       "  </thead>\n",
       "  <tbody>\n",
       "    <tr>\n",
       "      <th>0</th>\n",
       "      <td>27</td>\n",
       "      <td>13</td>\n",
       "      <td>14</td>\n",
       "      <td>20</td>\n",
       "      <td>11</td>\n",
       "      <td>2</td>\n",
       "      <td>1</td>\n",
       "    </tr>\n",
       "    <tr>\n",
       "      <th>1</th>\n",
       "      <td>12</td>\n",
       "      <td>13</td>\n",
       "      <td>24</td>\n",
       "      <td>25</td>\n",
       "      <td>6</td>\n",
       "      <td>2</td>\n",
       "      <td>1</td>\n",
       "    </tr>\n",
       "    <tr>\n",
       "      <th>2</th>\n",
       "      <td>14</td>\n",
       "      <td>20</td>\n",
       "      <td>15</td>\n",
       "      <td>16</td>\n",
       "      <td>7</td>\n",
       "      <td>2</td>\n",
       "      <td>1</td>\n",
       "    </tr>\n",
       "    <tr>\n",
       "      <th>3</th>\n",
       "      <td>18</td>\n",
       "      <td>20</td>\n",
       "      <td>17</td>\n",
       "      <td>12</td>\n",
       "      <td>6</td>\n",
       "      <td>2</td>\n",
       "      <td>1</td>\n",
       "    </tr>\n",
       "    <tr>\n",
       "      <th>4</th>\n",
       "      <td>9</td>\n",
       "      <td>22</td>\n",
       "      <td>22</td>\n",
       "      <td>21</td>\n",
       "      <td>6</td>\n",
       "      <td>2</td>\n",
       "      <td>1</td>\n",
       "    </tr>\n",
       "    <tr>\n",
       "      <th>...</th>\n",
       "      <td>...</td>\n",
       "      <td>...</td>\n",
       "      <td>...</td>\n",
       "      <td>...</td>\n",
       "      <td>...</td>\n",
       "      <td>...</td>\n",
       "      <td>...</td>\n",
       "    </tr>\n",
       "    <tr>\n",
       "      <th>125</th>\n",
       "      <td>10</td>\n",
       "      <td>11</td>\n",
       "      <td>26</td>\n",
       "      <td>17</td>\n",
       "      <td>10</td>\n",
       "      <td>1</td>\n",
       "      <td>2</td>\n",
       "    </tr>\n",
       "    <tr>\n",
       "      <th>126</th>\n",
       "      <td>14</td>\n",
       "      <td>12</td>\n",
       "      <td>14</td>\n",
       "      <td>11</td>\n",
       "      <td>29</td>\n",
       "      <td>1</td>\n",
       "      <td>2</td>\n",
       "    </tr>\n",
       "    <tr>\n",
       "      <th>127</th>\n",
       "      <td>19</td>\n",
       "      <td>11</td>\n",
       "      <td>23</td>\n",
       "      <td>18</td>\n",
       "      <td>13</td>\n",
       "      <td>2</td>\n",
       "      <td>2</td>\n",
       "    </tr>\n",
       "    <tr>\n",
       "      <th>128</th>\n",
       "      <td>27</td>\n",
       "      <td>19</td>\n",
       "      <td>22</td>\n",
       "      <td>7</td>\n",
       "      <td>9</td>\n",
       "      <td>2</td>\n",
       "      <td>2</td>\n",
       "    </tr>\n",
       "    <tr>\n",
       "      <th>129</th>\n",
       "      <td>10</td>\n",
       "      <td>17</td>\n",
       "      <td>22</td>\n",
       "      <td>22</td>\n",
       "      <td>8</td>\n",
       "      <td>2</td>\n",
       "      <td>2</td>\n",
       "    </tr>\n",
       "  </tbody>\n",
       "</table>\n",
       "<p>130 rows × 7 columns</p>\n",
       "</div>"
      ],
      "text/plain": [
       "     Indep  Supp  Benev  Conform  Leader  Gender  Socio\n",
       "0       27    13     14       20      11       2      1\n",
       "1       12    13     24       25       6       2      1\n",
       "2       14    20     15       16       7       2      1\n",
       "3       18    20     17       12       6       2      1\n",
       "4        9    22     22       21       6       2      1\n",
       "..     ...   ...    ...      ...     ...     ...    ...\n",
       "125     10    11     26       17      10       1      2\n",
       "126     14    12     14       11      29       1      2\n",
       "127     19    11     23       18      13       2      2\n",
       "128     27    19     22        7       9       2      2\n",
       "129     10    17     22       22       8       2      2\n",
       "\n",
       "[130 rows x 7 columns]"
      ]
     },
     "execution_count": 124,
     "metadata": {},
     "output_type": "execute_result"
    }
   ],
   "source": [
    "data"
   ]
  },
  {
   "cell_type": "markdown",
   "metadata": {},
   "source": [
    "### (a)\n",
    "Examine the marginal Normality."
   ]
  },
  {
   "cell_type": "markdown",
   "metadata": {},
   "source": [
    "$H_0: \\text{They all satisfy marginal normality}\\text{ vs. }H_1: \\text{they do not}$"
   ]
  },
  {
   "cell_type": "markdown",
   "metadata": {},
   "source": [
    "With the size of data is 130, we choose the Significance level $\\alpha=0.01$. <br>\n",
    "Then the critical point value is 0.9879"
   ]
  },
  {
   "cell_type": "code",
   "execution_count": 125,
   "metadata": {},
   "outputs": [],
   "source": [
    "q = (np.arange(1,131)-0.5)/130\n",
    "q = stats.norm.ppf(q)"
   ]
  },
  {
   "cell_type": "markdown",
   "metadata": {},
   "source": [
    "#### Independence"
   ]
  },
  {
   "cell_type": "code",
   "execution_count": 126,
   "metadata": {},
   "outputs": [
    {
     "data": {
      "image/png": "[encoded data removed]",
      "text/plain": [
       "<Figure size 640x480 with 1 Axes>"
      ]
     },
     "metadata": {},
     "output_type": "display_data"
    }
   ],
   "source": [
    "plt.style.use('ggplot')\n",
    "stats.probplot(data['Indep'], plot=plt)\n",
    "plt.show()"
   ]
  },
  {
   "cell_type": "code",
   "execution_count": 127,
   "metadata": {},
   "outputs": [
    {
     "data": {
      "text/plain": [
       "array([[1.        , 0.98813014],\n",
       "       [0.98813014, 1.        ]])"
      ]
     },
     "execution_count": 127,
     "metadata": {},
     "output_type": "execute_result"
    }
   ],
   "source": [
    "np.corrcoef(np.sort(data['Indep']), q)"
   ]
  },
  {
   "cell_type": "markdown",
   "metadata": {},
   "source": [
    "#### Support"
   ]
  },
  {
   "cell_type": "code",
   "execution_count": 128,
   "metadata": {},
   "outputs": [
    {
     "data": {
      "image/png": "[encoded data removed]",
      "text/plain": [
       "<Figure size 640x480 with 1 Axes>"
      ]
     },
     "metadata": {},
     "output_type": "display_data"
    }
   ],
   "source": [
    "plt.style.use('ggplot')\n",
    "stats.probplot(data['Supp'], plot=plt)\n",
    "plt.show()"
   ]
  },
  {
   "cell_type": "code",
   "execution_count": 129,
   "metadata": {},
   "outputs": [
    {
     "data": {
      "text/plain": [
       "array([[1.      , 0.989288],\n",
       "       [0.989288, 1.      ]])"
      ]
     },
     "execution_count": 129,
     "metadata": {},
     "output_type": "execute_result"
    }
   ],
   "source": [
    "np.corrcoef(np.sort(data['Supp']), q)"
   ]
  },
  {
   "cell_type": "markdown",
   "metadata": {},
   "source": [
    "#### Benevolence\n"
   ]
  },
  {
   "cell_type": "code",
   "execution_count": 130,
   "metadata": {},
   "outputs": [
    {
     "data": {
      "image/png": "[encoded data removed]",
      "text/plain": [
       "<Figure size 640x480 with 1 Axes>"
      ]
     },
     "metadata": {},
     "output_type": "display_data"
    }
   ],
   "source": [
    "plt.style.use('ggplot')\n",
    "stats.probplot(data['Benev'], plot=plt)\n",
    "plt.show()"
   ]
  },
  {
   "cell_type": "code",
   "execution_count": 131,
   "metadata": {},
   "outputs": [
    {
     "data": {
      "text/plain": [
       "array([[1.        , 0.99250856],\n",
       "       [0.99250856, 1.        ]])"
      ]
     },
     "execution_count": 131,
     "metadata": {},
     "output_type": "execute_result"
    }
   ],
   "source": [
    "np.corrcoef(np.sort(data['Benev']), q)"
   ]
  },
  {
   "cell_type": "markdown",
   "metadata": {},
   "source": [
    "#### Comformity"
   ]
  },
  {
   "cell_type": "code",
   "execution_count": 132,
   "metadata": {},
   "outputs": [
    {
     "data": {
      "image/png": "[encoded data removed]",
      "text/plain": [
       "<Figure size 640x480 with 1 Axes>"
      ]
     },
     "metadata": {},
     "output_type": "display_data"
    }
   ],
   "source": [
    "plt.style.use('ggplot')\n",
    "stats.probplot(data['Conform'], plot=plt)\n",
    "plt.show()"
   ]
  },
  {
   "cell_type": "code",
   "execution_count": 133,
   "metadata": {},
   "outputs": [
    {
     "data": {
      "text/plain": [
       "array([[1.        , 0.99337999],\n",
       "       [0.99337999, 1.        ]])"
      ]
     },
     "execution_count": 133,
     "metadata": {},
     "output_type": "execute_result"
    }
   ],
   "source": [
    "np.corrcoef(np.sort(data['Conform']), q)"
   ]
  },
  {
   "cell_type": "markdown",
   "metadata": {},
   "source": [
    "Obviously, the marginal normality is vaild.<br>\n",
    "Every corr is above the critical value.<br>\n",
    "\n",
    "We fail to reject it. $$\\text{They are marginally normal.}$$"
   ]
  },
  {
   "cell_type": "markdown",
   "metadata": {},
   "source": [
    "### (b)"
   ]
  },
  {
   "cell_type": "markdown",
   "metadata": {},
   "source": [
    "First, we do some preprocessing."
   ]
  },
  {
   "cell_type": "code",
   "execution_count": 134,
   "metadata": {},
   "outputs": [],
   "source": [
    "X = np.array(data.iloc[:, 0:5])"
   ]
  },
  {
   "cell_type": "code",
   "execution_count": 135,
   "metadata": {},
   "outputs": [
    {
     "data": {
      "text/plain": [
       "array([[27, 13, 14, 20, 11],\n",
       "       [12, 13, 24, 25,  6],\n",
       "       [14, 20, 15, 16,  7],\n",
       "       [18, 20, 17, 12,  6],\n",
       "       [ 9, 22, 22, 21,  6],\n",
       "       [18, 15, 17, 25,  9],\n",
       "       [12, 18, 29, 18,  4],\n",
       "       [10, 19, 21, 10, 16],\n",
       "       [ 8, 23, 23, 19,  9],\n",
       "       [21, 11, 17,  9, 16],\n",
       "       [15, 16, 16, 12, 19],\n",
       "       [ 9, 20, 29, 14,  7],\n",
       "       [16, 22, 24, 17,  4],\n",
       "       [14, 19, 17, 18, 15],\n",
       "       [13, 26, 23, 17,  5],\n",
       "       [13, 20, 22, 18,  5],\n",
       "       [18, 17, 11, 23, 14],\n",
       "       [15, 24, 15,  8, 15],\n",
       "       [18, 22, 24, 11,  6],\n",
       "       [18, 18, 17, 24,  7],\n",
       "       [ 9, 16, 27, 18,  9],\n",
       "       [25, 17, 15, 14, 14],\n",
       "       [ 9, 21, 21, 18,  4],\n",
       "       [28, 17, 19, 12,  7],\n",
       "       [18, 18, 26, 14,  6],\n",
       "       [25, 13, 11, 20,  6],\n",
       "       [ 6, 16, 22, 23, 15],\n",
       "       [25, 13, 18,  9, 15],\n",
       "       [ 4, 23, 27, 16,  8],\n",
       "       [17,  7, 19, 22, 12],\n",
       "       [13, 14, 16, 20, 16],\n",
       "       [14, 16, 21, 19, 10],\n",
       "       [17, 12, 22, 19, 12],\n",
       "       [14, 16, 19, 18, 13],\n",
       "       [10, 19, 23, 23,  3],\n",
       "       [ 8, 21, 16, 20, 10],\n",
       "       [15, 12, 15, 23, 11],\n",
       "       [ 8, 22, 18, 15,  9],\n",
       "       [ 9, 17, 29, 20, 10],\n",
       "       [ 9, 14, 23, 21, 12],\n",
       "       [21, 16, 22, 11, 11],\n",
       "       [12, 18, 19, 18,  8],\n",
       "       [18, 20, 13, 13, 17],\n",
       "       [10, 14, 28, 20, 10],\n",
       "       [15, 11, 22, 25,  9],\n",
       "       [20, 14, 14,  9, 17],\n",
       "       [ 7, 14, 23, 17, 23],\n",
       "       [22, 17, 11, 15, 11],\n",
       "       [18, 21, 15,  8, 15],\n",
       "       [ 7, 14, 24, 24, 14],\n",
       "       [13, 17, 19, 24,  8],\n",
       "       [15, 20, 17, 19, 10],\n",
       "       [15, 19, 29, 17,  2],\n",
       "       [ 7, 21, 21, 25,  8],\n",
       "       [29, 16,  8, 12, 18],\n",
       "       [14, 16, 23, 22,  9],\n",
       "       [15, 19, 12, 15, 14],\n",
       "       [19, 17, 21, 18,  5],\n",
       "       [ 9, 14, 21, 18, 17],\n",
       "       [25,  6, 19, 11, 25],\n",
       "       [10, 18, 22, 18, 12],\n",
       "       [16, 18, 19, 21, 10],\n",
       "       [12, 14, 21, 27,  9],\n",
       "       [12, 21, 19, 17, 10],\n",
       "       [18, 22, 14,  8, 23],\n",
       "       [15, 12, 15, 19, 17],\n",
       "       [ 8, 15, 25, 17, 16],\n",
       "       [ 7, 23, 29, 14,  8],\n",
       "       [15, 16, 14, 18, 15],\n",
       "       [10, 19, 22, 15, 14],\n",
       "       [10, 11, 28, 18,  9],\n",
       "       [20, 10, 14, 27, 13],\n",
       "       [27, 13, 19,  4, 17],\n",
       "       [29, 21, 11,  4, 13],\n",
       "       [16, 13,  9, 16, 22],\n",
       "       [ 3, 20, 25, 20,  8],\n",
       "       [12, 17,  9, 14, 21],\n",
       "       [19, 27, 12,  6,  7],\n",
       "       [22, 17, 21, 11,  9],\n",
       "       [20, 11, 23, 18,  7],\n",
       "       [15, 21, 21, 14,  8],\n",
       "       [12, 12, 28, 25,  5],\n",
       "       [26, 18,  9,  1, 19],\n",
       "       [26, 22, 16,  5, 14],\n",
       "       [12, 17, 10, 15, 20],\n",
       "       [22, 12, 18, 14, 14],\n",
       "       [19, 20, 17, 15, 11],\n",
       "       [22, 24,  9, 11, 10],\n",
       "       [23, 15, 14, 14, 11],\n",
       "       [ 9, 19, 18, 21,  6],\n",
       "       [15, 12, 12, 17, 21],\n",
       "       [15, 20, 20, 10, 11],\n",
       "       [16, 19, 19, 16,  7],\n",
       "       [11, 20, 22, 13, 11],\n",
       "       [14,  7, 20, 14, 19],\n",
       "       [13, 11, 26,  9, 22],\n",
       "       [21, 13, 18, 19, 14],\n",
       "       [12, 19, 20,  7, 14],\n",
       "       [22, 22, 14, 13,  4],\n",
       "       [21, 21, 21,  5,  9],\n",
       "       [17, 19, 25, 10, 14],\n",
       "       [14, 18, 12, 12, 17],\n",
       "       [16, 19, 14, 12, 15],\n",
       "       [24,  9,  2, 20, 23],\n",
       "       [21, 18, 18,  8,  8],\n",
       "       [11, 11, 24, 27,  9],\n",
       "       [28, 23, 11,  6, 10],\n",
       "       [13, 19, 24, 19,  4],\n",
       "       [17, 19, 20,  8,  6],\n",
       "       [14, 20, 21, 13,  7],\n",
       "       [31, 10,  6,  7, 21],\n",
       "       [19, 20, 12,  4, 18],\n",
       "       [10, 19, 22, 11, 11],\n",
       "       [10, 22, 26,  9, 10],\n",
       "       [18, 15, 19, 17,  9],\n",
       "       [18, 20,  8,  6, 17],\n",
       "       [13, 19, 24, 17, 12],\n",
       "       [18, 24, 16, 12, 10],\n",
       "       [20, 13, 18, 23,  7],\n",
       "       [16, 21, 19, 12, 13],\n",
       "       [ 9, 19, 19, 19, 12],\n",
       "       [10, 15, 20, 22, 10],\n",
       "       [13, 22, 14, 12,  9],\n",
       "       [22, 10, 17, 14, 18],\n",
       "       [16, 18, 16,  8, 16],\n",
       "       [10, 11, 26, 17, 10],\n",
       "       [14, 12, 14, 11, 29],\n",
       "       [19, 11, 23, 18, 13],\n",
       "       [27, 19, 22,  7,  9],\n",
       "       [10, 17, 22, 22,  8]], dtype=int64)"
      ]
     },
     "execution_count": 135,
     "metadata": {},
     "output_type": "execute_result"
    }
   ],
   "source": [
    "X"
   ]
  },
  {
   "cell_type": "code",
   "execution_count": 136,
   "metadata": {},
   "outputs": [
    {
     "data": {
      "text/plain": [
       "array([[ 34.75020871,  -4.27668456, -18.07179487, -15.97286822,\n",
       "          5.71645796],\n",
       "       [ -4.27668456,  17.51341682,   0.41979726,  -7.86821705,\n",
       "         -8.72331544],\n",
       "       [-18.07179487,   0.41979726,  29.84472272,   9.34883721,\n",
       "        -13.94215862],\n",
       "       [-15.97286822,  -7.86821705,   9.34883721,  33.04263566,\n",
       "         -9.94186047],\n",
       "       [  5.71645796,  -8.72331544, -13.94215862,  -9.94186047,\n",
       "         26.95796064]])"
      ]
     },
     "execution_count": 136,
     "metadata": {},
     "output_type": "execute_result"
    }
   ],
   "source": [
    "S = np.cov(X.T)\n",
    "S"
   ]
  },
  {
   "cell_type": "code",
   "execution_count": 137,
   "metadata": {},
   "outputs": [],
   "source": [
    "ans_list = []\n",
    "X_mean = X.mean(axis=0)"
   ]
  },
  {
   "cell_type": "code",
   "execution_count": 138,
   "metadata": {},
   "outputs": [],
   "source": [
    "for i in range(130):\n",
    "    distance = (X[i]- X_mean).T @ np.linalg.inv(S) @ (X[i]- X_mean)\n",
    "    ans_list.append(distance)"
   ]
  },
  {
   "cell_type": "code",
   "execution_count": 139,
   "metadata": {},
   "outputs": [],
   "source": [
    "q = ( np.arange(130)+0.5 )/130\n",
    "q = stats.chi2.ppf(q, 5)\n",
    "\n",
    "ordered = np.sort(ans_list)"
   ]
  },
  {
   "cell_type": "code",
   "execution_count": 140,
   "metadata": {},
   "outputs": [
    {
     "data": {
      "image/png": "[encoded data removed]",
      "text/plain": [
       "<Figure size 640x480 with 1 Axes>"
      ]
     },
     "metadata": {},
     "output_type": "display_data"
    }
   ],
   "source": [
    "plt.style.use('ggplot')\n",
    "plt.scatter(q, ordered)\n",
    "plt.ylabel('ordered statistical distances')\n",
    "plt.xlabel('chi square quantiles')\n",
    "plt.title('chi square Q-Q plot for data')\n",
    "plt.show()"
   ]
  },
  {
   "cell_type": "code",
   "execution_count": null,
   "metadata": {},
   "outputs": [],
   "source": []
  },
  {
   "cell_type": "markdown",
   "metadata": {},
   "source": [
    "### (c)\n",
    "Using the rQ statistic, normality is rejected at the 5% level for leadership.\n"
   ]
  },
  {
   "cell_type": "code",
   "execution_count": 141,
   "metadata": {},
   "outputs": [
    {
     "data": {
      "text/plain": [
       "array([[1.        , 0.99623664],\n",
       "       [0.99623664, 1.        ]])"
      ]
     },
     "execution_count": 141,
     "metadata": {},
     "output_type": "execute_result"
    }
   ],
   "source": [
    "np.corrcoef(ordered, q)"
   ]
  },
  {
   "cell_type": "markdown",
   "metadata": {},
   "source": [
    " If leadership is transformed by taking the square root (i.e. 1 = 0.5), rQ = 0.996 and we cannot reject normality at the 5% level, because the critical point is below the $Corr$ we get."
   ]
  },
  {
   "cell_type": "code",
   "execution_count": 148,
   "metadata": {},
   "outputs": [],
   "source": [
    "leader = np.array(data['Leader'])\n",
    "\n",
    "leader = stats.boxcox(leader)[0]"
   ]
  },
  {
   "cell_type": "code",
   "execution_count": 149,
   "metadata": {},
   "outputs": [],
   "source": [
    "q = (np.arange(130)+0.5)/130\n",
    "q = stats.norm.ppf(q)"
   ]
  },
  {
   "cell_type": "code",
   "execution_count": 151,
   "metadata": {},
   "outputs": [
    {
     "data": {
      "text/plain": [
       "array([[1.       , 0.9964521],\n",
       "       [0.9964521, 1.       ]])"
      ]
     },
     "execution_count": 151,
     "metadata": {},
     "output_type": "execute_result"
    }
   ],
   "source": [
    "np.corrcoef(np.sort(leader), q)"
   ]
  }
 ],
 "metadata": {
  "kernelspec": {
   "display_name": "Python 3",
   "language": "python",
   "name": "python3"
  },
  "language_info": {
   "codemirror_mode": {
    "name": "ipython",
    "version": 3
   },
   "file_extension": ".py",
   "mimetype": "text/x-python",
   "name": "python",
   "nbconvert_exporter": "python",
   "pygments_lexer": "ipython3",
   "version": "3.10.7"
  }
 },
 "nbformat": 4,
 "nbformat_minor": 2
}
